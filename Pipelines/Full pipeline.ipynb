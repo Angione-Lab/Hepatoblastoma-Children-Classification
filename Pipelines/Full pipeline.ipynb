{
 "cells": [
  {
   "cell_type": "markdown",
   "id": "international-sweden",
   "metadata": {},
   "source": [
    "# SVM pipeline for flux analysis and permutation flux analysis"
   ]
  },
  {
   "cell_type": "markdown",
   "id": "noticed-century",
   "metadata": {},
   "source": [
    "## Parameter definition"
   ]
  },
  {
   "cell_type": "code",
   "execution_count": 1,
   "id": "pediatric-memorabilia",
   "metadata": {},
   "outputs": [],
   "source": [
    "results_path = \"path\"\n",
    "features = \"genes\" # \"FVA\", \"genes\"\n",
    "permute = \"_label_permutation\" # \"\", \"_label_permutation\", \"_feature_permutation\";  \"\" if you do not want permutation\n",
    "\n",
    "NUMBER_REPETITIONS = 200\n",
    "NUMBER_TEST_SAMPLES = 5 # per class\n",
    "NUMBER_TRAIN_SAMPLES = 30 # per class per fold execution\n",
    "NUMBER_INTERNAL_FOLDS = 5\n",
    "var_threshold = 0.0 # 0.0 to remove only constant features\n",
    "classifier = \"SVM\" # \"SVM\", \"NN\", \"RF\""
   ]
  },
  {
   "cell_type": "markdown",
   "id": "joint-factory",
   "metadata": {},
   "source": [
    "## Data loading and minimal preprocessing"
   ]
  },
  {
   "cell_type": "code",
   "execution_count": 2,
   "id": "knowing-exhibit",
   "metadata": {},
   "outputs": [
    {
     "name": "stdout",
     "output_type": "stream",
     "text": [
      "0\n",
      "False\n",
      "0\n",
      "False\n"
     ]
    }
   ],
   "source": [
    "import random\n",
    "import pandas as pd\n",
    "import numpy as np\n",
    "from sklearn.preprocessing import LabelEncoder, StandardScaler\n",
    "from scipy.io import loadmat, savemat\n",
    "\n",
    "random_state = 1\n",
    "random.seed(random_state)\n",
    "rng = np.random.RandomState(random_state)\n",
    "\n",
    "# load dataset\n",
    "if features == \"FVA\":\n",
    "    data = pd.read_csv(\"path\\maxFluxes.csv\")\n",
    "    # load metabolic model\n",
    "    model = loadmat(\"path\\recon2.2.mat\")\n",
    "    rxn_list = model[\"model\"][0][0][0]\n",
    "    pathway_list = model[\"model\"][0][0][13]\n",
    "    # check for NANs and for identical rows\n",
    "    print(data.isnull().values.any())\n",
    "    print(data.duplicated(subset=data.columns[:-1]).any())\n",
    "    sample_ids = data[\"sample_id\"]\n",
    "    data = data[data.columns[1:]]\n",
    "    \n",
    "    data = data.round(decimals=6)   # done here because it is element-wise so no data leakage can happen\n",
    "    print(data.isnull().values.any())                        \n",
    "    print(data.duplicated(subset=data.columns[:-1]).any())\n",
    "else:\n",
    "    data = loadmat(\"path\\combined_dataset.mat\")\n",
    "    data = np.transpose(data[\"geneData_combat_p\"])\n",
    "    print(np.sum(np.isnan(data)))\n",
    "    uni_data, _, unique_inverse = np.unique(data, return_index=True, return_inverse=True, axis=0)\n",
    "    print((uni_data[unique_inverse] != data).any()) # because rows are sorted after np.unique\n",
    "    gene_list = pd.read_csv(\"path\\gene_exp_final_m.csv\")\n",
    "    gene_list = gene_list[\"hgnc_id\"].to_numpy()\n",
    "    \n",
    "    data = np.around(data, decimals=6)\n",
    "    print(np.sum(np.isnan(data)))\n",
    "    uni_data, _, unique_inverse = np.unique(data, return_index=True, return_inverse=True, axis=0)\n",
    "    print((uni_data[unique_inverse] != data).any())   \n",
    "\n",
    "    \n",
    "targets = pd.read_csv(\"path\\sampleData.csv\")  # ids are in the same order\n",
    "targets = targets[\"Status\"] == \"Tumor\"\n",
    "targets = LabelEncoder().fit_transform(targets)"
   ]
  },
  {
   "cell_type": "markdown",
   "id": "identical-consolidation",
   "metadata": {},
   "source": [
    "## Util definition"
   ]
  },
  {
   "cell_type": "code",
   "execution_count": 3,
   "id": "invalid-clothing",
   "metadata": {},
   "outputs": [],
   "source": [
    "# custom transformer for removing the identical features\n",
    "from sklearn.base import BaseEstimator, TransformerMixin\n",
    "\n",
    "class RedundantTrimmer(BaseEstimator, TransformerMixin):\n",
    "    def __init__(self):\n",
    "        pass\n",
    "        \n",
    "    def fit(self, X, y=None):\n",
    "        _, unique_indices = np.unique(X, return_index=True, axis=1)  #  sorted, unlike in the MATLAB version\n",
    "        self.indices = unique_indices\n",
    "        return self\n",
    "    \n",
    "    def transform(self, X, y=None):\n",
    "        return X[:,self.indices]\n",
    "    \n",
    "\n",
    "# function to retrieve the rxns and subsystems used\n",
    "def getFeatures(features, thresholded, redundant):\n",
    "    features = features.reshape(-1, 1)\n",
    "    features = features[remove_indices]\n",
    "    unique_red = list(set(redundant))\n",
    "    array = np.zeros(len(unique_red), dtype=object)\n",
    "    for i in unique_red:\n",
    "        array[i] = [features[j] for j, k in enumerate(redundant) if k == i]\n",
    "    return array"
   ]
  },
  {
   "cell_type": "markdown",
   "id": "tender-silver",
   "metadata": {},
   "source": [
    "## Model building and validation analyses"
   ]
  },
  {
   "cell_type": "code",
   "execution_count": 4,
   "id": "accredited-immigration",
   "metadata": {},
   "outputs": [
    {
     "name": "stdout",
     "output_type": "stream",
     "text": [
      "Run 1 {'svc__C': 0.0004641588833612782} 0.624384236453202\n",
      "Run 2 {'svc__C': 0.0004641588833612782} 0.6948275862068967\n",
      "Run 3 {'svc__C': 0.0004641588833612782} 0.744088669950739\n"
     ]
    },
    {
     "name": "stderr",
     "output_type": "stream",
     "text": [
      "C:\\ProgramData\\Anaconda3\\lib\\site-packages\\sklearn\\metrics\\_classification.py:870: RuntimeWarning: invalid value encountered in double_scalars\n",
      "  mcc = cov_ytyp / np.sqrt(cov_ytyt * cov_ypyp)\n"
     ]
    },
    {
     "name": "stdout",
     "output_type": "stream",
     "text": [
      "Run 4 {'svc__C': 0.0004641588833612782} 0.566256157635468\n",
      "Run 5 {'svc__C': 0.0004641588833612782} 0.6667487684729065\n",
      "Run 6 {'svc__C': 1e-10} 0.6729064039408867\n",
      "Run 7 {'svc__C': 0.0004641588833612782} 0.6950738916256156\n",
      "Run 8 {'svc__C': 0.0004641588833612782} 0.6948275862068966\n",
      "Run 9 {'svc__C': 1e-10} 0.5958128078817735\n",
      "Run 10 {'svc__C': 0.0004641588833612782} 0.7019704433497537\n",
      "Run 11 {'svc__C': 0.0004641588833612782} 0.8009852216748768\n"
     ]
    },
    {
     "name": "stderr",
     "output_type": "stream",
     "text": [
      "C:\\ProgramData\\Anaconda3\\lib\\site-packages\\sklearn\\metrics\\_classification.py:870: RuntimeWarning: invalid value encountered in double_scalars\n",
      "  mcc = cov_ytyp / np.sqrt(cov_ytyt * cov_ypyp)\n"
     ]
    },
    {
     "name": "stdout",
     "output_type": "stream",
     "text": [
      "Run 12 {'svc__C': 0.0004641588833612782} 0.6741379310344828\n",
      "Run 13 {'svc__C': 0.0004641588833612782} 0.7086206896551724\n",
      "Run 14 {'svc__C': 0.0004641588833612782} 0.6810344827586208\n",
      "Run 15 {'svc__C': 0.0004641588833612782} 0.6812807881773401\n",
      "Run 16 {'svc__C': 0.0004641588833612782} 0.7305418719211823\n",
      "Run 17 {'svc__C': 0.0004641588833612782} 0.6812807881773398\n",
      "Run 18 {'svc__C': 0.0004641588833612782} 0.6588669950738917\n"
     ]
    },
    {
     "name": "stderr",
     "output_type": "stream",
     "text": [
      "C:\\ProgramData\\Anaconda3\\lib\\site-packages\\sklearn\\metrics\\_classification.py:870: RuntimeWarning: invalid value encountered in double_scalars\n",
      "  mcc = cov_ytyp / np.sqrt(cov_ytyt * cov_ypyp)\n"
     ]
    },
    {
     "name": "stdout",
     "output_type": "stream",
     "text": [
      "Run 19 {'svc__C': 1e-10} 0.7300492610837439\n",
      "Run 20 {'svc__C': 0.0004641588833612782} 0.666256157635468\n",
      "Run 21 {'svc__C': 0.0004641588833612782} 0.6598522167487684\n",
      "Run 22 {'svc__C': 0.0004641588833612782} 0.7098522167487685\n",
      "Run 23 {'svc__C': 0.0004641588833612782} 0.624384236453202\n",
      "Run 24 {'svc__C': 0.07742636826811278} 0.6396551724137931\n",
      "Run 25 {'svc__C': 0.0004641588833612782} 0.5596059113300493\n",
      "Run 26 {'svc__C': 0.0004641588833612782} 0.6950738916256157\n",
      "Run 27 {'svc__C': 0.0004641588833612782} 0.6371921182266009\n"
     ]
    },
    {
     "name": "stderr",
     "output_type": "stream",
     "text": [
      "C:\\ProgramData\\Anaconda3\\lib\\site-packages\\sklearn\\metrics\\_classification.py:870: RuntimeWarning: invalid value encountered in double_scalars\n",
      "  mcc = cov_ytyp / np.sqrt(cov_ytyt * cov_ypyp)\n"
     ]
    },
    {
     "name": "stdout",
     "output_type": "stream",
     "text": [
      "Run 28 {'svc__C': 1e-10} 0.5886699507389161\n"
     ]
    },
    {
     "name": "stderr",
     "output_type": "stream",
     "text": [
      "C:\\ProgramData\\Anaconda3\\lib\\site-packages\\sklearn\\metrics\\_classification.py:870: RuntimeWarning: invalid value encountered in double_scalars\n",
      "  mcc = cov_ytyp / np.sqrt(cov_ytyt * cov_ypyp)\n"
     ]
    },
    {
     "name": "stdout",
     "output_type": "stream",
     "text": [
      "Run 29 {'svc__C': 0.0004641588833612782} 0.6733990147783251\n",
      "Run 30 {'svc__C': 1e-10} 0.6103448275862069\n",
      "Run 31 {'svc__C': 1e-10} 0.6524630541871922\n",
      "Run 32 {'svc__C': 0.0004641588833612782} 0.674384236453202\n",
      "Run 33 {'svc__C': 0.0004641588833612782} 0.6524630541871921\n",
      "Run 34 {'svc__C': 0.0004641588833612782} 0.6738916256157635\n",
      "Run 35 {'svc__C': 0.07742636826811278} 0.5541871921182266\n"
     ]
    },
    {
     "name": "stderr",
     "output_type": "stream",
     "text": [
      "C:\\ProgramData\\Anaconda3\\lib\\site-packages\\sklearn\\metrics\\_classification.py:870: RuntimeWarning: invalid value encountered in double_scalars\n",
      "  mcc = cov_ytyp / np.sqrt(cov_ytyt * cov_ypyp)\n"
     ]
    },
    {
     "name": "stdout",
     "output_type": "stream",
     "text": [
      "Run 36 {'svc__C': 0.0004641588833612782} 0.702463054187192\n",
      "Run 37 {'svc__C': 0.0004641588833612782} 0.5953201970443349\n",
      "Run 38 {'svc__C': 0.0004641588833612782} 0.6598522167487685\n",
      "Run 39 {'svc__C': 0.0004641588833612782} 0.6463054187192119\n"
     ]
    },
    {
     "name": "stderr",
     "output_type": "stream",
     "text": [
      "C:\\ProgramData\\Anaconda3\\lib\\site-packages\\sklearn\\metrics\\_classification.py:870: RuntimeWarning: invalid value encountered in double_scalars\n",
      "  mcc = cov_ytyp / np.sqrt(cov_ytyt * cov_ypyp)\n"
     ]
    },
    {
     "name": "stdout",
     "output_type": "stream",
     "text": [
      "Run 40 {'svc__C': 0.0004641588833612782} 0.6879310344827586\n",
      "Run 41 {'svc__C': 0.0004641588833612782} 0.5825123152709359\n",
      "Run 42 {'svc__C': 0.0004641588833612782} 0.6736453201970444\n",
      "Run 43 {'svc__C': 0.0004641588833612782} 0.6450738916256157\n",
      "Run 44 {'svc__C': 0.0004641588833612782} 0.6381773399014778\n",
      "Run 45 {'svc__C': 0.0004641588833612782} 0.680295566502463\n",
      "Run 46 {'svc__C': 1e-10} 0.6312807881773399\n",
      "Run 47 {'svc__C': 0.0004641588833612782} 0.7027093596059114\n",
      "Run 48 {'svc__C': 0.0004641588833612782} 0.58128078817734\n"
     ]
    },
    {
     "name": "stderr",
     "output_type": "stream",
     "text": [
      "C:\\ProgramData\\Anaconda3\\lib\\site-packages\\sklearn\\metrics\\_classification.py:870: RuntimeWarning: invalid value encountered in double_scalars\n",
      "  mcc = cov_ytyp / np.sqrt(cov_ytyt * cov_ypyp)\n"
     ]
    },
    {
     "name": "stdout",
     "output_type": "stream",
     "text": [
      "Run 49 {'svc__C': 0.0004641588833612782} 0.6874384236453203\n",
      "Run 50 {'svc__C': 1e-10} 0.6963054187192118\n",
      "Run 51 {'svc__C': 0.0004641588833612782} 0.6322660098522167\n",
      "Run 52 {'svc__C': 0.0004641588833612782} 0.680295566502463\n",
      "Run 53 {'svc__C': 0.0004641588833612782} 0.6532019704433497\n"
     ]
    },
    {
     "name": "stderr",
     "output_type": "stream",
     "text": [
      "C:\\ProgramData\\Anaconda3\\lib\\site-packages\\sklearn\\metrics\\_classification.py:870: RuntimeWarning: invalid value encountered in double_scalars\n",
      "  mcc = cov_ytyp / np.sqrt(cov_ytyt * cov_ypyp)\n"
     ]
    },
    {
     "name": "stdout",
     "output_type": "stream",
     "text": [
      "Run 54 {'svc__C': 0.0004641588833612782} 0.6514778325123153\n",
      "Run 55 {'svc__C': 0.0004641588833612782} 0.7305418719211823\n",
      "Run 56 {'svc__C': 0.0004641588833612782} 0.6667487684729065\n",
      "Run 57 {'svc__C': 0.0004641588833612782} 0.6741379310344827\n",
      "Run 58 {'svc__C': 0.0004641588833612782} 0.6810344827586208\n",
      "Run 59 {'svc__C': 0.0004641588833612782} 0.7024630541871921\n"
     ]
    },
    {
     "name": "stderr",
     "output_type": "stream",
     "text": [
      "C:\\ProgramData\\Anaconda3\\lib\\site-packages\\sklearn\\metrics\\_classification.py:870: RuntimeWarning: invalid value encountered in double_scalars\n",
      "  mcc = cov_ytyp / np.sqrt(cov_ytyt * cov_ypyp)\n"
     ]
    },
    {
     "name": "stdout",
     "output_type": "stream",
     "text": [
      "Run 60 {'svc__C': 0.0004641588833612782} 0.7088669950738916\n",
      "Run 61 {'svc__C': 0.0004641588833612782} 0.6948275862068967\n",
      "Run 62 {'svc__C': 1e-10} 0.7233990147783251\n",
      "Run 63 {'svc__C': 0.0004641588833612782} 0.6667487684729064\n",
      "Run 64 {'svc__C': 0.0004641588833612782} 0.702216748768473\n",
      "Run 65 {'svc__C': 0.0004641588833612782} 0.6238916256157635\n",
      "Run 66 {'svc__C': 0.0004641588833612782} 0.6591133004926107\n",
      "Run 67 {'svc__C': 0.0004641588833612782} 0.5884236453201971\n"
     ]
    },
    {
     "name": "stderr",
     "output_type": "stream",
     "text": [
      "C:\\ProgramData\\Anaconda3\\lib\\site-packages\\sklearn\\metrics\\_classification.py:870: RuntimeWarning: invalid value encountered in double_scalars\n",
      "  mcc = cov_ytyp / np.sqrt(cov_ytyt * cov_ypyp)\n"
     ]
    },
    {
     "name": "stdout",
     "output_type": "stream",
     "text": [
      "Run 68 {'svc__C': 0.07742636826811278} 0.6955665024630543\n",
      "Run 69 {'svc__C': 0.0004641588833612782} 0.6665024630541871\n",
      "Run 70 {'svc__C': 0.0004641588833612782} 0.6598522167487684\n",
      "Run 71 {'svc__C': 0.0004641588833612782} 0.7093596059113301\n",
      "Run 72 {'svc__C': 0.0004641588833612782} 0.7019704433497537\n",
      "Run 73 {'svc__C': 0.0004641588833612782} 0.6669950738916256\n",
      "Run 74 {'svc__C': 0.0004641588833612782} 0.6884236453201971\n"
     ]
    },
    {
     "name": "stderr",
     "output_type": "stream",
     "text": [
      "C:\\ProgramData\\Anaconda3\\lib\\site-packages\\sklearn\\metrics\\_classification.py:870: RuntimeWarning: invalid value encountered in double_scalars\n",
      "  mcc = cov_ytyp / np.sqrt(cov_ytyt * cov_ypyp)\n"
     ]
    },
    {
     "name": "stdout",
     "output_type": "stream",
     "text": [
      "Run 75 {'svc__C': 0.0004641588833612782} 0.7514778325123153\n",
      "Run 76 {'svc__C': 1e-10} 0.6463054187192119\n",
      "Run 77 {'svc__C': 0.0004641588833612782} 0.6881773399014778\n",
      "Run 78 {'svc__C': 0.0004641588833612782} 0.6667487684729064\n",
      "Run 79 {'svc__C': 0.0004641588833612782} 0.6807881773399015\n"
     ]
    },
    {
     "name": "stderr",
     "output_type": "stream",
     "text": [
      "C:\\ProgramData\\Anaconda3\\lib\\site-packages\\sklearn\\metrics\\_classification.py:870: RuntimeWarning: invalid value encountered in double_scalars\n",
      "  mcc = cov_ytyp / np.sqrt(cov_ytyt * cov_ypyp)\n"
     ]
    },
    {
     "name": "stdout",
     "output_type": "stream",
     "text": [
      "Run 80 {'svc__C': 0.0004641588833612782} 0.7231527093596058\n"
     ]
    },
    {
     "name": "stderr",
     "output_type": "stream",
     "text": [
      "C:\\ProgramData\\Anaconda3\\lib\\site-packages\\sklearn\\metrics\\_classification.py:870: RuntimeWarning: invalid value encountered in double_scalars\n",
      "  mcc = cov_ytyp / np.sqrt(cov_ytyt * cov_ypyp)\n"
     ]
    },
    {
     "name": "stdout",
     "output_type": "stream",
     "text": [
      "Run 81 {'svc__C': 0.0004641588833612782} 0.5889162561576355\n"
     ]
    },
    {
     "name": "stderr",
     "output_type": "stream",
     "text": [
      "C:\\ProgramData\\Anaconda3\\lib\\site-packages\\sklearn\\metrics\\_classification.py:870: RuntimeWarning: invalid value encountered in double_scalars\n",
      "  mcc = cov_ytyp / np.sqrt(cov_ytyt * cov_ypyp)\n"
     ]
    },
    {
     "name": "stdout",
     "output_type": "stream",
     "text": [
      "Run 82 {'svc__C': 0.07742636826811278} 0.5891625615763547\n"
     ]
    },
    {
     "name": "stderr",
     "output_type": "stream",
     "text": [
      "C:\\ProgramData\\Anaconda3\\lib\\site-packages\\sklearn\\metrics\\_classification.py:870: RuntimeWarning: invalid value encountered in double_scalars\n",
      "  mcc = cov_ytyp / np.sqrt(cov_ytyt * cov_ypyp)\n"
     ]
    },
    {
     "name": "stdout",
     "output_type": "stream",
     "text": [
      "Run 83 {'svc__C': 0.0004641588833612782} 0.6529556650246306\n"
     ]
    },
    {
     "name": "stderr",
     "output_type": "stream",
     "text": [
      "C:\\ProgramData\\Anaconda3\\lib\\site-packages\\sklearn\\metrics\\_classification.py:870: RuntimeWarning: invalid value encountered in double_scalars\n",
      "  mcc = cov_ytyp / np.sqrt(cov_ytyt * cov_ypyp)\n"
     ]
    },
    {
     "name": "stdout",
     "output_type": "stream",
     "text": [
      "Run 84 {'svc__C': 0.0004641588833612782} 0.7379310344827585\n",
      "Run 85 {'svc__C': 1e-10} 0.7096059113300492\n",
      "Run 86 {'svc__C': 0.0004641588833612782} 0.6741379310344827\n",
      "Run 87 {'svc__C': 0.0004641588833612782} 0.6315270935960591\n",
      "Run 88 {'svc__C': 0.0004641588833612782} 0.6665024630541871\n",
      "Run 89 {'svc__C': 0.0004641588833612782} 0.695320197044335\n",
      "Run 90 {'svc__C': 0.0004641588833612782} 0.6096059113300493\n",
      "Run 91 {'svc__C': 0.0004641588833612782} 0.5667487684729065\n",
      "Run 92 {'svc__C': 0.0004641588833612782} 0.7157635467980296\n",
      "Run 93 {'svc__C': 0.0004641588833612782} 0.6871921182266011\n",
      "Run 94 {'svc__C': 0.0004641588833612782} 0.7583743842364533\n",
      "Run 95 {'svc__C': 0.0004641588833612782} 0.7024630541871921\n",
      "Run 96 {'svc__C': 0.0004641588833612782} 0.6876847290640395\n",
      "Run 97 {'svc__C': 1e-10} 0.7293103448275862\n"
     ]
    },
    {
     "name": "stderr",
     "output_type": "stream",
     "text": [
      "C:\\ProgramData\\Anaconda3\\lib\\site-packages\\sklearn\\metrics\\_classification.py:870: RuntimeWarning: invalid value encountered in double_scalars\n",
      "  mcc = cov_ytyp / np.sqrt(cov_ytyt * cov_ypyp)\n"
     ]
    },
    {
     "name": "stdout",
     "output_type": "stream",
     "text": [
      "Run 98 {'svc__C': 0.0004641588833612782} 0.6465517241379309\n",
      "Run 99 {'svc__C': 0.0004641588833612782} 0.581527093596059\n"
     ]
    },
    {
     "name": "stderr",
     "output_type": "stream",
     "text": [
      "C:\\ProgramData\\Anaconda3\\lib\\site-packages\\sklearn\\metrics\\_classification.py:870: RuntimeWarning: invalid value encountered in double_scalars\n",
      "  mcc = cov_ytyp / np.sqrt(cov_ytyt * cov_ypyp)\n"
     ]
    },
    {
     "name": "stdout",
     "output_type": "stream",
     "text": [
      "Run 100 {'svc__C': 0.0004641588833612782} 0.7298029556650245\n",
      "Run 101 {'svc__C': 1e-10} 0.5889162561576354\n"
     ]
    },
    {
     "name": "stderr",
     "output_type": "stream",
     "text": [
      "C:\\ProgramData\\Anaconda3\\lib\\site-packages\\sklearn\\metrics\\_classification.py:870: RuntimeWarning: invalid value encountered in double_scalars\n",
      "  mcc = cov_ytyp / np.sqrt(cov_ytyt * cov_ypyp)\n"
     ]
    },
    {
     "name": "stdout",
     "output_type": "stream",
     "text": [
      "Run 102 {'svc__C': 0.0004641588833612782} 0.7014778325123153\n",
      "Run 103 {'svc__C': 0.0004641588833612782} 0.6374384236453201\n",
      "Run 104 {'svc__C': 0.0004641588833612782} 0.6596059113300493\n"
     ]
    },
    {
     "name": "stderr",
     "output_type": "stream",
     "text": [
      "C:\\ProgramData\\Anaconda3\\lib\\site-packages\\sklearn\\metrics\\_classification.py:870: RuntimeWarning: invalid value encountered in double_scalars\n",
      "  mcc = cov_ytyp / np.sqrt(cov_ytyt * cov_ypyp)\n"
     ]
    },
    {
     "name": "stdout",
     "output_type": "stream",
     "text": [
      "Run 105 {'svc__C': 0.0004641588833612782} 0.7169950738916256\n",
      "Run 106 {'svc__C': 0.0004641588833612782} 0.6884236453201971\n"
     ]
    },
    {
     "name": "stderr",
     "output_type": "stream",
     "text": [
      "C:\\ProgramData\\Anaconda3\\lib\\site-packages\\sklearn\\metrics\\_classification.py:870: RuntimeWarning: invalid value encountered in double_scalars\n",
      "  mcc = cov_ytyp / np.sqrt(cov_ytyt * cov_ypyp)\n"
     ]
    },
    {
     "name": "stdout",
     "output_type": "stream",
     "text": [
      "Run 107 {'svc__C': 0.0004641588833612782} 0.6879310344827587\n"
     ]
    },
    {
     "name": "stderr",
     "output_type": "stream",
     "text": [
      "C:\\ProgramData\\Anaconda3\\lib\\site-packages\\sklearn\\metrics\\_classification.py:870: RuntimeWarning: invalid value encountered in double_scalars\n",
      "  mcc = cov_ytyp / np.sqrt(cov_ytyt * cov_ypyp)\n"
     ]
    },
    {
     "name": "stdout",
     "output_type": "stream",
     "text": [
      "Run 108 {'svc__C': 0.0004641588833612782} 0.6386699507389162\n"
     ]
    },
    {
     "name": "stderr",
     "output_type": "stream",
     "text": [
      "C:\\ProgramData\\Anaconda3\\lib\\site-packages\\sklearn\\metrics\\_classification.py:870: RuntimeWarning: invalid value encountered in double_scalars\n",
      "  mcc = cov_ytyp / np.sqrt(cov_ytyt * cov_ypyp)\n"
     ]
    },
    {
     "name": "stdout",
     "output_type": "stream",
     "text": [
      "Run 109 {'svc__C': 1e-10} 0.7726600985221674\n",
      "Run 110 {'svc__C': 0.0004641588833612782} 0.6874384236453203\n",
      "Run 111 {'svc__C': 0.0004641588833612782} 0.65935960591133\n",
      "Run 112 {'svc__C': 0.0004641588833612782} 0.6945812807881773\n"
     ]
    },
    {
     "name": "stderr",
     "output_type": "stream",
     "text": [
      "C:\\ProgramData\\Anaconda3\\lib\\site-packages\\sklearn\\metrics\\_classification.py:870: RuntimeWarning: invalid value encountered in double_scalars\n",
      "  mcc = cov_ytyp / np.sqrt(cov_ytyt * cov_ypyp)\n"
     ]
    },
    {
     "name": "stdout",
     "output_type": "stream",
     "text": [
      "Run 113 {'svc__C': 0.0004641588833612782} 0.7019704433497538\n",
      "Run 114 {'svc__C': 0.0004641588833612782} 0.6960591133004927\n",
      "Run 115 {'svc__C': 0.0004641588833612782} 0.6596059113300493\n"
     ]
    },
    {
     "name": "stderr",
     "output_type": "stream",
     "text": [
      "C:\\ProgramData\\Anaconda3\\lib\\site-packages\\sklearn\\metrics\\_classification.py:870: RuntimeWarning: invalid value encountered in double_scalars\n",
      "  mcc = cov_ytyp / np.sqrt(cov_ytyt * cov_ypyp)\n"
     ]
    },
    {
     "name": "stdout",
     "output_type": "stream",
     "text": [
      "Run 116 {'svc__C': 0.0004641588833612782} 0.6955665024630542\n",
      "Run 117 {'svc__C': 0.0004641588833612782} 0.6798029556650247\n",
      "Run 118 {'svc__C': 0.0004641588833612782} 0.7805418719211822\n",
      "Run 119 {'svc__C': 0.0004641588833612782} 0.6598522167487685\n",
      "Run 120 {'svc__C': 1e-10} 0.6953201970443349\n",
      "Run 121 {'svc__C': 0.0004641588833612782} 0.7315270935960592\n",
      "Run 122 {'svc__C': 1e-10} 0.7598522167487685\n",
      "Run 123 {'svc__C': 0.0004641588833612782} 0.7019704433497538\n",
      "Run 124 {'svc__C': 0.0004641588833612782} 0.6876847290640393\n",
      "Run 125 {'svc__C': 0.0004641588833612782} 0.7238916256157635\n",
      "Run 126 {'svc__C': 0.0004641588833612782} 0.7024630541871921\n"
     ]
    },
    {
     "name": "stderr",
     "output_type": "stream",
     "text": [
      "C:\\ProgramData\\Anaconda3\\lib\\site-packages\\sklearn\\metrics\\_classification.py:870: RuntimeWarning: invalid value encountered in double_scalars\n",
      "  mcc = cov_ytyp / np.sqrt(cov_ytyt * cov_ypyp)\n"
     ]
    },
    {
     "name": "stdout",
     "output_type": "stream",
     "text": [
      "Run 127 {'svc__C': 0.0004641588833612782} 0.6241379310344828\n"
     ]
    },
    {
     "name": "stderr",
     "output_type": "stream",
     "text": [
      "C:\\ProgramData\\Anaconda3\\lib\\site-packages\\sklearn\\metrics\\_classification.py:870: RuntimeWarning: invalid value encountered in double_scalars\n",
      "  mcc = cov_ytyp / np.sqrt(cov_ytyt * cov_ypyp)\n"
     ]
    },
    {
     "name": "stdout",
     "output_type": "stream",
     "text": [
      "Run 128 {'svc__C': 0.0004641588833612782} 0.6655172413793103\n",
      "Run 129 {'svc__C': 0.07742636826811278} 0.6948275862068967\n",
      "Run 130 {'svc__C': 0.0004641588833612782} 0.6098522167487685\n",
      "Run 131 {'svc__C': 0.0004641588833612782} 0.7438423645320198\n",
      "Run 132 {'svc__C': 0.0004641588833612782} 0.6455665024630541\n",
      "Run 133 {'svc__C': 0.0004641588833612782} 0.595320197044335\n",
      "Run 134 {'svc__C': 0.0004641588833612782} 0.6869458128078817\n"
     ]
    },
    {
     "name": "stderr",
     "output_type": "stream",
     "text": [
      "C:\\ProgramData\\Anaconda3\\lib\\site-packages\\sklearn\\metrics\\_classification.py:870: RuntimeWarning: invalid value encountered in double_scalars\n",
      "  mcc = cov_ytyp / np.sqrt(cov_ytyt * cov_ypyp)\n"
     ]
    },
    {
     "name": "stdout",
     "output_type": "stream",
     "text": [
      "Run 135 {'svc__C': 0.0004641588833612782} 0.6950738916256157\n",
      "Run 136 {'svc__C': 0.0004641588833612782} 0.6598522167487685\n",
      "Run 137 {'svc__C': 0.0004641588833612782} 0.7231527093596058\n",
      "Run 138 {'svc__C': 0.0004641588833612782} 0.6943349753694581\n",
      "Run 139 {'svc__C': 0.0004641588833612782} 0.6948275862068966\n",
      "Run 140 {'svc__C': 0.0004641588833612782} 0.6098522167487685\n",
      "Run 141 {'svc__C': 0.0004641588833612782} 0.7600985221674877\n",
      "Run 142 {'svc__C': 0.0004641588833612782} 0.6381773399014778\n",
      "Run 143 {'svc__C': 0.0004641588833612782} 0.68128078817734\n"
     ]
    },
    {
     "name": "stderr",
     "output_type": "stream",
     "text": [
      "C:\\ProgramData\\Anaconda3\\lib\\site-packages\\sklearn\\metrics\\_classification.py:870: RuntimeWarning: invalid value encountered in double_scalars\n",
      "  mcc = cov_ytyp / np.sqrt(cov_ytyt * cov_ypyp)\n"
     ]
    },
    {
     "name": "stdout",
     "output_type": "stream",
     "text": [
      "Run 144 {'svc__C': 0.0004641588833612782} 0.6886699507389162\n",
      "Run 145 {'svc__C': 0.0004641588833612782} 0.6598522167487686\n",
      "Run 146 {'svc__C': 0.0004641588833612782} 0.7229064039408867\n"
     ]
    },
    {
     "name": "stderr",
     "output_type": "stream",
     "text": [
      "C:\\ProgramData\\Anaconda3\\lib\\site-packages\\sklearn\\metrics\\_classification.py:870: RuntimeWarning: invalid value encountered in double_scalars\n",
      "  mcc = cov_ytyp / np.sqrt(cov_ytyt * cov_ypyp)\n"
     ]
    },
    {
     "name": "stdout",
     "output_type": "stream",
     "text": [
      "Run 147 {'svc__C': 0.07742636826811278} 0.5958128078817735\n",
      "Run 148 {'svc__C': 0.0004641588833612782} 0.5463054187192118\n"
     ]
    },
    {
     "name": "stderr",
     "output_type": "stream",
     "text": [
      "C:\\ProgramData\\Anaconda3\\lib\\site-packages\\sklearn\\metrics\\_classification.py:870: RuntimeWarning: invalid value encountered in double_scalars\n",
      "  mcc = cov_ytyp / np.sqrt(cov_ytyt * cov_ypyp)\n"
     ]
    },
    {
     "name": "stdout",
     "output_type": "stream",
     "text": [
      "Run 149 {'svc__C': 0.0004641588833612782} 0.6450738916256158\n"
     ]
    },
    {
     "name": "stderr",
     "output_type": "stream",
     "text": [
      "C:\\ProgramData\\Anaconda3\\lib\\site-packages\\sklearn\\metrics\\_classification.py:870: RuntimeWarning: invalid value encountered in double_scalars\n",
      "  mcc = cov_ytyp / np.sqrt(cov_ytyt * cov_ypyp)\n"
     ]
    },
    {
     "name": "stdout",
     "output_type": "stream",
     "text": [
      "Run 150 {'svc__C': 1e-10} 0.6317733990147782\n",
      "Run 151 {'svc__C': 0.0004641588833612782} 0.6093596059113301\n",
      "Run 152 {'svc__C': 1e-10} 0.7233990147783251\n",
      "Run 153 {'svc__C': 0.0004641588833612782} 0.6879310344827587\n"
     ]
    },
    {
     "name": "stderr",
     "output_type": "stream",
     "text": [
      "C:\\ProgramData\\Anaconda3\\lib\\site-packages\\sklearn\\metrics\\_classification.py:870: RuntimeWarning: invalid value encountered in double_scalars\n",
      "  mcc = cov_ytyp / np.sqrt(cov_ytyt * cov_ypyp)\n"
     ]
    },
    {
     "name": "stdout",
     "output_type": "stream",
     "text": [
      "Run 154 {'svc__C': 0.0004641588833612782} 0.6458128078817734\n",
      "Run 155 {'svc__C': 0.0004641588833612782} 0.6810344827586207\n",
      "Run 156 {'svc__C': 0.0004641588833612782} 0.5810344827586207\n",
      "Run 157 {'svc__C': 0.07742636826811278} 0.695320197044335\n"
     ]
    },
    {
     "name": "stderr",
     "output_type": "stream",
     "text": [
      "C:\\ProgramData\\Anaconda3\\lib\\site-packages\\sklearn\\metrics\\_classification.py:870: RuntimeWarning: invalid value encountered in double_scalars\n",
      "  mcc = cov_ytyp / np.sqrt(cov_ytyt * cov_ypyp)\n"
     ]
    },
    {
     "name": "stdout",
     "output_type": "stream",
     "text": [
      "Run 158 {'svc__C': 0.0004641588833612782} 0.623399014778325\n"
     ]
    },
    {
     "name": "stderr",
     "output_type": "stream",
     "text": [
      "C:\\ProgramData\\Anaconda3\\lib\\site-packages\\sklearn\\metrics\\_classification.py:870: RuntimeWarning: invalid value encountered in double_scalars\n",
      "  mcc = cov_ytyp / np.sqrt(cov_ytyt * cov_ypyp)\n"
     ]
    },
    {
     "name": "stdout",
     "output_type": "stream",
     "text": [
      "Run 159 {'svc__C': 0.0004641588833612782} 0.7024630541871921\n",
      "Run 160 {'svc__C': 0.0004641588833612782} 0.7019704433497538\n",
      "Run 161 {'svc__C': 0.07742636826811278} 0.6381773399014778\n",
      "Run 162 {'svc__C': 1e-10} 0.653448275862069\n"
     ]
    },
    {
     "name": "stderr",
     "output_type": "stream",
     "text": [
      "C:\\ProgramData\\Anaconda3\\lib\\site-packages\\sklearn\\metrics\\_classification.py:870: RuntimeWarning: invalid value encountered in double_scalars\n",
      "  mcc = cov_ytyp / np.sqrt(cov_ytyt * cov_ypyp)\n"
     ]
    },
    {
     "name": "stdout",
     "output_type": "stream",
     "text": [
      "Run 163 {'svc__C': 0.0004641588833612782} 0.6167487684729064\n",
      "Run 164 {'svc__C': 0.0004641588833612782} 0.6672413793103449\n",
      "Run 165 {'svc__C': 0.0004641588833612782} 0.7665024630541872\n",
      "Run 166 {'svc__C': 0.0004641588833612782} 0.6450738916256158\n",
      "Run 167 {'svc__C': 0.0004641588833612782} 0.653448275862069\n",
      "Run 168 {'svc__C': 0.0004641588833612782} 0.5532019704433498\n",
      "Run 169 {'svc__C': 0.0004641588833612782} 0.6603448275862069\n",
      "Run 170 {'svc__C': 0.0004641588833612782} 0.6876847290640394\n",
      "Run 171 {'svc__C': 0.0004641588833612782} 0.6669950738916256\n",
      "Run 172 {'svc__C': 0.0004641588833612782} 0.7514778325123153\n",
      "Run 173 {'svc__C': 0.0004641588833612782} 0.6807881773399015\n",
      "Run 174 {'svc__C': 0.0004641588833612782} 0.7445812807881774\n",
      "Run 175 {'svc__C': 0.0004641588833612782} 0.5743842364532019\n",
      "Run 176 {'svc__C': 0.07742636826811278} 0.7736453201970444\n",
      "Run 177 {'svc__C': 1e-10} 0.6529556650246304\n",
      "Run 178 {'svc__C': 0.0004641588833612782} 0.666256157635468\n",
      "Run 179 {'svc__C': 0.0004641588833612782} 0.6669950738916256\n"
     ]
    },
    {
     "name": "stderr",
     "output_type": "stream",
     "text": [
      "C:\\ProgramData\\Anaconda3\\lib\\site-packages\\sklearn\\metrics\\_classification.py:870: RuntimeWarning: invalid value encountered in double_scalars\n",
      "  mcc = cov_ytyp / np.sqrt(cov_ytyt * cov_ypyp)\n"
     ]
    },
    {
     "name": "stdout",
     "output_type": "stream",
     "text": [
      "Run 180 {'svc__C': 0.0004641588833612782} 0.6517241379310346\n",
      "Run 181 {'svc__C': 0.0004641588833612782} 0.7160098522167487\n",
      "Run 182 {'svc__C': 0.0004641588833612782} 0.7091133004926109\n",
      "Run 183 {'svc__C': 0.0004641588833612782} 0.7017241379310345\n",
      "Run 184 {'svc__C': 0.0004641588833612782} 0.6746305418719213\n",
      "Run 185 {'svc__C': 0.0004641588833612782} 0.6246305418719211\n"
     ]
    },
    {
     "name": "stderr",
     "output_type": "stream",
     "text": [
      "C:\\ProgramData\\Anaconda3\\lib\\site-packages\\sklearn\\metrics\\_classification.py:870: RuntimeWarning: invalid value encountered in double_scalars\n",
      "  mcc = cov_ytyp / np.sqrt(cov_ytyt * cov_ypyp)\n"
     ]
    },
    {
     "name": "stdout",
     "output_type": "stream",
     "text": [
      "Run 186 {'svc__C': 0.0004641588833612782} 0.6312807881773399\n"
     ]
    },
    {
     "name": "stderr",
     "output_type": "stream",
     "text": [
      "C:\\ProgramData\\Anaconda3\\lib\\site-packages\\sklearn\\metrics\\_classification.py:870: RuntimeWarning: invalid value encountered in double_scalars\n",
      "  mcc = cov_ytyp / np.sqrt(cov_ytyt * cov_ypyp)\n"
     ]
    },
    {
     "name": "stdout",
     "output_type": "stream",
     "text": [
      "Run 187 {'svc__C': 0.0004641588833612782} 0.6940886699507389\n",
      "Run 188 {'svc__C': 0.0004641588833612782} 0.6386699507389162\n",
      "Run 189 {'svc__C': 0.0004641588833612782} 0.7236453201970444\n",
      "Run 190 {'svc__C': 0.0004641588833612782} 0.6598522167487685\n",
      "Run 191 {'svc__C': 0.0004641588833612782} 0.702216748768473\n"
     ]
    },
    {
     "name": "stderr",
     "output_type": "stream",
     "text": [
      "C:\\ProgramData\\Anaconda3\\lib\\site-packages\\sklearn\\metrics\\_classification.py:870: RuntimeWarning: invalid value encountered in double_scalars\n",
      "  mcc = cov_ytyp / np.sqrt(cov_ytyt * cov_ypyp)\n"
     ]
    },
    {
     "name": "stdout",
     "output_type": "stream",
     "text": [
      "Run 192 {'svc__C': 1e-10} 0.7027093596059114\n",
      "Run 193 {'svc__C': 0.0004641588833612782} 0.6029556650246305\n",
      "Run 194 {'svc__C': 0.0004641588833612782} 0.6600985221674878\n",
      "Run 195 {'svc__C': 0.0004641588833612782} 0.6655172413793103\n"
     ]
    },
    {
     "name": "stderr",
     "output_type": "stream",
     "text": [
      "C:\\ProgramData\\Anaconda3\\lib\\site-packages\\sklearn\\metrics\\_classification.py:870: RuntimeWarning: invalid value encountered in double_scalars\n",
      "  mcc = cov_ytyp / np.sqrt(cov_ytyt * cov_ypyp)\n"
     ]
    },
    {
     "name": "stdout",
     "output_type": "stream",
     "text": [
      "Run 196 {'svc__C': 0.0004641588833612782} 0.6667487684729064\n",
      "Run 197 {'svc__C': 0.0004641588833612782} 0.6820197044334975\n",
      "Run 198 {'svc__C': 0.0004641588833612782} 0.6238916256157635\n",
      "Run 199 {'svc__C': 0.0004641588833612782} 0.7088669950738916\n",
      "Run 200 {'svc__C': 1e-10} 0.5330049261083744\n"
     ]
    },
    {
     "name": "stderr",
     "output_type": "stream",
     "text": [
      "C:\\ProgramData\\Anaconda3\\lib\\site-packages\\sklearn\\metrics\\_classification.py:870: RuntimeWarning: invalid value encountered in double_scalars\n",
      "  mcc = cov_ytyp / np.sqrt(cov_ytyt * cov_ypyp)\n"
     ]
    },
    {
     "name": "stdout",
     "output_type": "stream",
     "text": [
      "Average accuracy: 0.633 with standard deviation: 0.1712045560141435\n",
      "Average MCC: 0.0017851544578240076 with standard deviation: 0.31436534176836983\n"
     ]
    }
   ],
   "source": [
    "from sklearn.utils import shuffle\n",
    "from imblearn.pipeline import Pipeline\n",
    "from imblearn.over_sampling import RandomOverSampler\n",
    "from imblearn.under_sampling import RandomUnderSampler\n",
    "from sklearn.feature_selection import VarianceThreshold\n",
    "from sklearn.model_selection import StratifiedKFold, GridSearchCV\n",
    "from sklearn.svm import SVC\n",
    "from sklearn.neural_network import MLPClassifier\n",
    "from sklearn.ensemble import RandomForestClassifier\n",
    "from sklearn.metrics import accuracy_score, matthews_corrcoef\n",
    "\n",
    "if features == \"FVA\":\n",
    "    tumor_samples = data.to_numpy()[targets==1,:]\n",
    "    healthy_samples = data.to_numpy()[targets==0,:]\n",
    "else:\n",
    "    tumor_samples = data[targets==1,:]\n",
    "    healthy_samples = data[targets==0,:]\n",
    "cv = StratifiedKFold(n_splits=NUMBER_INTERNAL_FOLDS, shuffle=True, random_state=random_state)\n",
    "\n",
    "if classifier == \"SVM\": \n",
    "    mdl = SVC(kernel=\"linear\", random_state=rng)\n",
    "    params = {\n",
    "        \"model__C\": np.logspace(-10, 10, num=10)\n",
    "    }\n",
    "elif classifier == \"NN\":\n",
    "    mdl = MLPClassifier(solver=\"lbfgs\", random_state=rng)\n",
    "    params = {\n",
    "        \"model__alpha\": 10.0 ** -np.arange(1, 7)\n",
    "    }\n",
    "else:\n",
    "    mdl = RandomForestClassifier(random_state=rng)\n",
    "    params = {\n",
    "        \"model__n_estimators\": [10, 100, 500, 1000],\n",
    "        \"model__max_depth\": [3, 5, 8, None]\n",
    "    }\n",
    "\n",
    "pipe = Pipeline(steps=[\n",
    "    (\"oversampling\", RandomOverSampler(sampling_strategy=\"minority\", random_state=random_state)), \n",
    "    (\"undersampling\", RandomUnderSampler(sampling_strategy={0:NUMBER_TRAIN_SAMPLES, 1:NUMBER_TRAIN_SAMPLES}, \n",
    "                                         random_state=random_state)),\n",
    "    (\"var_selection\", VarianceThreshold(threshold=var_threshold)), \n",
    "    (\"reduntant_trim\", RedundantTrimmer()), \n",
    "    (\"standardise\", StandardScaler()), \n",
    "    ('model',  mdl)\n",
    "])\n",
    "\n",
    "params = {\n",
    "    \"svc__C\": lambdas\n",
    "}\n",
    "\n",
    "accuracies = np.zeros(NUMBER_REPETITIONS)\n",
    "MCCs = np.zeros(NUMBER_REPETITIONS)\n",
    "Ytrue = np.zeros((NUMBER_REPETITIONS, NUMBER_TEST_SAMPLES * 2))\n",
    "Ypred = np.zeros((NUMBER_REPETITIONS, NUMBER_TEST_SAMPLES * 2))\n",
    "testSamples = np.zeros((NUMBER_REPETITIONS, NUMBER_TEST_SAMPLES * 2))\n",
    "betas = list()\n",
    "if features == \"FVA\":\n",
    "    predictors =  np.zeros(NUMBER_REPETITIONS, dtype=object)\n",
    "    pathways =  np.zeros(NUMBER_REPETITIONS, dtype=object)\n",
    "else:\n",
    "    genes =  np.zeros(NUMBER_REPETITIONS, dtype=object)\n",
    "\n",
    "for rep in range(NUMBER_REPETITIONS):\n",
    "    test_idx1 = random.sample(range(len(healthy_samples)), NUMBER_TEST_SAMPLES)\n",
    "    test_idx2 = random.sample(range(len(tumor_samples)), NUMBER_TEST_SAMPLES)  \n",
    "    testSamples[rep] = np.concatenate((test_idx1, test_idx2)) + 1 # for use in MATLAB\n",
    "        \n",
    "    Xtest = np.concatenate((healthy_samples[test_idx1,:], tumor_samples[test_idx2,:]))\n",
    "    ytest = [i for i in range(2) for _ in range(NUMBER_TEST_SAMPLES)]\n",
    "    \n",
    "    train_healthy = np.delete(healthy_samples, test_idx1, axis=0)\n",
    "    train_tumor = np.delete(tumor_samples, test_idx2, axis=0)\n",
    "    Xtrain = np.concatenate((train_healthy, train_tumor))\n",
    "    Xtrain, ytrain = shuffle(Xtrain, np.concatenate(([0] * len(train_healthy), [1] * len(train_tumor))), \n",
    "                             random_state=random_state)\n",
    "    \n",
    "    if permute == \"_label_permutation\":\n",
    "        ys = np.concatenate((ytrain, ytest))\n",
    "        random.shuffle(ys)\n",
    "        ytrain, ytest = ys[:len(ytrain)], ys[-len(ytest):]\n",
    "    elif permute == \"_feature_permutation\":\n",
    "        raise NotImplementedError\n",
    "    else:\n",
    "        pass\n",
    "    \n",
    "    gs = GridSearchCV(pipe, param_grid=params, cv=cv, refit=True, n_jobs=5) \n",
    "    gs.fit(Xtrain, ytrain)  \n",
    "    print(\"Run\", rep + 1, gs.best_params_, gs.best_score_) \n",
    "    ypred = gs.predict(Xtest)\n",
    "    accuracies[rep] = accuracy_score(ytest, ypred)\n",
    "    MCCs[rep] = matthews_corrcoef(ytest, ypred)\n",
    "    Ytrue[rep] = ytest\n",
    "    Ypred[rep] = ypred\n",
    "    \n",
    "    Xtrain = Xtrain[gs.best_estimator_[\"oversampling\"].sample_indices_, :]\n",
    "    Xtrain = Xtrain[gs.best_estimator_[\"undersampling\"].sample_indices_, :]\n",
    "    remove_indices = gs.best_estimator_[\"var_selection\"].get_support()\n",
    "    Xtrain = Xtrain[:,remove_indices]\n",
    "    _, _, collapse_indices = np.unique(Xtrain, return_index=True, return_inverse=1, axis=1)\n",
    "    \n",
    "    if features == \"FVA\":\n",
    "        predictors[rep] = getFeatures(rxn_list, remove_indices, collapse_indices)\n",
    "        pathways[rep] = getFeatures(pathway_list, remove_indices, collapse_indices)\n",
    "    else:\n",
    "        genes[rep] = getFeatures(gene_list, remove_indices, collapse_indices)\n",
    "\n",
    "    if classifier == \"SVM\":                      \n",
    "        betas.append({\"Beta\": gs.best_estimator_[\"model\"].coef_[0]})\n",
    "    elif classifier == \"NN\": \n",
    "        betas.append({\"Beta\": np.squeeze(gs.best_estimator_[\"model\"].coefs_[0].dot(gs.best_estimator_[\"model\"].coefs_[1]))})\n",
    "    else:\n",
    "        betas.append({\"Beta\": np.squeeze(np.zeros((Xtrain.shape[0], 1)))}) # too computational expensive to calculate feature\n",
    "                                                                           # importance     \n",
    "\n",
    "print(\"Average accuracy: {} with standard deviation: {}\".format(np.mean(accuracies), np.std(accuracies)))\n",
    "print(\"Average MCC: {} with standard deviation: {}\".format(np.mean(MCCs), np.std(MCCs)))"
   ]
  },
  {
   "cell_type": "markdown",
   "id": "unsigned-supervision",
   "metadata": {},
   "source": [
    "## Result saving"
   ]
  },
  {
   "cell_type": "code",
   "execution_count": 5,
   "id": "coordinate-sequence",
   "metadata": {},
   "outputs": [],
   "source": [
    "if classifier == \"SVM\": \n",
    "    SVM_results = {\n",
    "        \"predicted\": Ypred, \n",
    "        \"true\": Ytrue, \n",
    "        \"mdl\": betas, \n",
    "        \"accuracies\": accuracies, \n",
    "        \"MCCs\": MCCs, \n",
    "        \"testSamples\": testSamples\n",
    "    }\n",
    "\n",
    "    if features == \"FVA\":\n",
    "        SVM_results[\"predictors\"] = predictors\n",
    "        SVM_results[\"pathways\"] = pathways\n",
    "    else:\n",
    "        SVM_results[\"genes\"] = genes\n",
    "    \n",
    "    savemat(results_path + r\"\\SVMl2\" + \"_results_\" + features + permute + \".mat\", \n",
    "            {\"SVM_results\": SVM_results}, oned_as=\"column\")\n",
    "elif classifier == \"NN\": \n",
    "    NN_results = {\n",
    "        \"predicted\": Ypred, \n",
    "        \"true\": Ytrue, \n",
    "        \"mdl\": betas, \n",
    "        \"accuracies\": accuracies, \n",
    "        \"MCCs\": MCCs, \n",
    "        \"testSamples\": testSamples\n",
    "    }\n",
    "\n",
    "    if features == \"FVA\":\n",
    "        NN_results[\"predictors\"] = predictors\n",
    "        NN_results[\"pathways\"] = pathways\n",
    "    else:\n",
    "        NN_results[\"genes\"] = genes\n",
    "    savemat(results_path + r\"\\NN\" + \"_results_\" + features + permute + \".mat\", \n",
    "            {\"NN_results\": NN_results}, oned_as=\"column\")\n",
    "else: \n",
    "    RF_results = {\n",
    "        \"predicted\": Ypred, \n",
    "        \"true\": Ytrue, \n",
    "        \"mdl\": betas, \n",
    "        \"accuracies\": accuracies, \n",
    "        \"MCCs\": MCCs, \n",
    "        \"testSamples\": testSamples\n",
    "    }\n",
    "\n",
    "    if features == \"FVA\":\n",
    "        RF_results[\"predictors\"] = predictors\n",
    "        RF_results[\"pathways\"] = pathways\n",
    "    else:\n",
    "        RF_results[\"genes\"] = genes\n",
    "    \n",
    "    savemat(results_path + r\"\\RF\" + \"_results_\" + features + permute + \".mat\", \n",
    "            {\"RF_results\": RF_results}, oned_as=\"column\")"
   ]
  }
 ],
 "metadata": {
  "kernelspec": {
   "display_name": "Python 3",
   "language": "python",
   "name": "python3"
  },
  "language_info": {
   "codemirror_mode": {
    "name": "ipython",
    "version": 3
   },
   "file_extension": ".py",
   "mimetype": "text/x-python",
   "name": "python",
   "nbconvert_exporter": "python",
   "pygments_lexer": "ipython3",
   "version": "3.7.4"
  }
 },
 "nbformat": 4,
 "nbformat_minor": 5
}
