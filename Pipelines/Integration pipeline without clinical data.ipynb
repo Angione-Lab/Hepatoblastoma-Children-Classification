{
 "cells": [
  {
   "cell_type": "markdown",
   "id": "funny-newspaper",
   "metadata": {},
   "source": [
    "# Integration pipeline of transcriptomics and fluxomics"
   ]
  },
  {
   "cell_type": "markdown",
   "id": "vulnerable-employee",
   "metadata": {},
   "source": [
    "## Parameter definition"
   ]
  },
  {
   "cell_type": "code",
   "execution_count": 1,
   "id": "extended-importance",
   "metadata": {},
   "outputs": [],
   "source": [
    "results_path = \"path\"\n",
    "permute = \"_label_permutation\" # \"\", \"_label_permutation\", \"_feature_permutation\";  \"\" if you do not want permutation\n",
    "\n",
    "NUMBER_REPETITIONS = 200\n",
    "NUMBER_TEST_SAMPLES = 5 # per class\n",
    "NUMBER_TRAIN_SAMPLES = 30 # per class per fold execution\n",
    "NUMBER_INTERNAL_FOLDS = 5\n",
    "var_threshold = 0.0 # 0.0 to remove only constant features"
   ]
  },
  {
   "cell_type": "markdown",
   "id": "successful-reverse",
   "metadata": {},
   "source": [
    "## Data loading and minimal preprocessing"
   ]
  },
  {
   "cell_type": "code",
   "execution_count": 2,
   "id": "unique-honduras",
   "metadata": {},
   "outputs": [
    {
     "name": "stdout",
     "output_type": "stream",
     "text": [
      "False\n",
      "False\n",
      "Length fluxes:  7785\n",
      "0\n",
      "False\n",
      "Length genes:  12712\n",
      "0\n",
      "False\n",
      "(151, 20497)\n"
     ]
    }
   ],
   "source": [
    "import random\n",
    "import pandas as pd\n",
    "import numpy as np\n",
    "from sklearn.preprocessing import LabelEncoder, StandardScaler\n",
    "from scipy.io import loadmat, savemat\n",
    "\n",
    "random_state = 1\n",
    "random.seed(random_state)\n",
    "rng = np.random.RandomState(random_state)\n",
    "\n",
    "# load fluxomic dataset\n",
    "fluxes = pd.read_csv(\"path\\maxFluxes.csv\")\n",
    "# load metabolic model\n",
    "model = loadmat(\"path\\recon2.2.mat\")\n",
    "rxn_list = model[\"model\"][0][0][0]\n",
    "pathway_list = model[\"model\"][0][0][13]\n",
    "# check for NANs and for identical rows\n",
    "print(fluxes.isnull().values.any())\n",
    "print(fluxes.duplicated(subset=fluxes.columns[:-1]).any())\n",
    "sample_ids = fluxes[\"sample_id\"]\n",
    "fluxes = fluxes[fluxes.columns[1:]].to_numpy()\n",
    "fluxes_length = fluxes.shape[1]\n",
    "print(\"Length fluxes: \", fluxes_length)\n",
    "    \n",
    "# load transcriptomic dataset\n",
    "genes = loadmat(\"path\\combined_dataset.mat\")\n",
    "genes = np.transpose(genes[\"geneData_combat_p\"])\n",
    "print(np.sum(np.isnan(genes)))\n",
    "uni_genes, _, unique_inverse = np.unique(genes, return_index=True, return_inverse=True, axis=0)\n",
    "print((uni_genes[unique_inverse] != genes).any()) # because rows are sorted after np.unique\n",
    "genes_length = genes.shape[1]\n",
    "print(\"Length genes: \", genes_length)\n",
    "gene_list = pd.read_csv(\"path\\gene_exp_final_m.csv\")\n",
    "gene_list = gene_list[\"hgnc_id\"].to_numpy()\n",
    "\n",
    "# concatenate both datasets\n",
    "fulldata = np.concatenate((fluxes, genes), axis=1)\n",
    "fulldata = np.around(fulldata, decimals=6)  # done here because it is element-wise so no data leakage can happen\n",
    "print(np.sum(np.isnan(fulldata)))\n",
    "uni_data, _, unique_inverse = np.unique(fulldata, return_index=True, return_inverse=True, axis=0)\n",
    "print((uni_data[unique_inverse] != fulldata).any())  \n",
    "print(fulldata.shape)                               \n",
    "omics_length = fulldata.shape[1]\n",
    "\n",
    "# load targets\n",
    "targets = pd.read_csv(\"path\\sampleData.csv\")  # ids are in the same order\n",
    "targets = targets[\"Status\"] == \"Tumor\"\n",
    "targets = LabelEncoder().fit_transform(targets)"
   ]
  },
  {
   "cell_type": "markdown",
   "id": "signed-choir",
   "metadata": {},
   "source": [
    "## Util definition"
   ]
  },
  {
   "cell_type": "code",
   "execution_count": 3,
   "id": "spatial-ferry",
   "metadata": {},
   "outputs": [],
   "source": [
    "# custom transformer for removing the identical features\n",
    "from sklearn.base import BaseEstimator, TransformerMixin, ClassifierMixin\n",
    "\n",
    "class RedundantTrimmer(BaseEstimator, TransformerMixin):\n",
    "    def __init__(self):\n",
    "        pass\n",
    "        \n",
    "    def fit(self, X, y=None):\n",
    "        _, unique_indices = np.unique(X, return_index=True, axis=1)  #  sorted, unlike in the MATLAB version\n",
    "        self.indices = unique_indices\n",
    "        return self\n",
    "    \n",
    "    def transform(self, X, y=None):\n",
    "        return X[:,self.indices]\n",
    "    \n",
    "\n",
    "# function to retrieve the rxns and subsystems used\n",
    "def getFeatures(features, thresholded, redundant):\n",
    "    features = features.reshape(-1, 1)\n",
    "    features = features[remove_indices]\n",
    "    unique_red = list(set(redundant))\n",
    "    array = np.zeros(len(unique_red), dtype=object)\n",
    "    for i in unique_red:\n",
    "        array[i] = [features[j] for j, k in enumerate(redundant) if k == i]\n",
    "    return array\n",
    "\n",
    "\n",
    "# custom implementation of a PLSDA transformer\n",
    "from sklearn.utils.validation import check_X_y, check_array, check_is_fitted\n",
    "from sklearn.utils.multiclass import unique_labels\n",
    "from sklearn.cross_decomposition import PLSRegression\n",
    "\n",
    "class PLSDiscriminantAnalysis(BaseEstimator, ClassifierMixin):\n",
    "    def __init__(self, max_iter=500, tol=1e-06):\n",
    "        self.max_iter = max_iter\n",
    "        self.tol = tol\n",
    "        \n",
    "    def fit(self, X, y):\n",
    "        # Check that X and y have correct shape\n",
    "        X, y = check_X_y(X, y)\n",
    "        # Store the classes seen during fit\n",
    "        self.classes_ = unique_labels(y)\n",
    "\n",
    "        # Build class matrix\n",
    "        class_matrix = np.zeros((len(y), y.max() + 1))   \n",
    "        class_matrix[np.arange(len(y)), y] = 1\n",
    "        # Return the classifier\n",
    "        self.PLSDA = PLSRegression(n_components=len(self.classes_), max_iter=self.max_iter, tol=self.tol)\n",
    "        self.PLSDA.fit(X, class_matrix)\n",
    "        return self\n",
    "    \n",
    "    def transform(self, X, y=None):\n",
    "        # Check if fit() had been called\n",
    "        check_is_fitted(self)\n",
    "      \n",
    "        # Input validation\n",
    "        X = check_array(X)\n",
    "      \n",
    "        return self.PLSDA.transform(X)\n"
   ]
  },
  {
   "cell_type": "markdown",
   "id": "gothic-journalist",
   "metadata": {},
   "source": [
    "## Integration analysis and permutation analysis"
   ]
  },
  {
   "cell_type": "code",
   "execution_count": 4,
   "id": "amber-imperial",
   "metadata": {},
   "outputs": [
    {
     "name": "stdout",
     "output_type": "stream",
     "text": [
      "Run 1 {'svc__C': 2154.4346900318865} 0.7100985221674877\n",
      "Run 2 {'svc__C': 1e-10} 0.7027093596059113\n",
      "Run 3 {'svc__C': 2154.4346900318865} 0.7514778325123153\n",
      "Run 4 {'svc__C': 0.07742636826811278} 0.5810344827586207\n",
      "Run 5 {'svc__C': 0.07742636826811278} 0.723152709359606\n",
      "Run 6 {'svc__C': 12.915496650148826} 0.6874384236453202\n",
      "Run 7 {'svc__C': 2154.4346900318865} 0.7310344827586206\n",
      "Run 8 {'svc__C': 2154.4346900318865} 0.666256157635468\n",
      "Run 9 {'svc__C': 0.07742636826811278} 0.617487684729064\n",
      "Run 10 {'svc__C': 12.915496650148826} 0.6874384236453202\n",
      "Run 11 {'svc__C': 1e-10} 0.7591133004926107\n"
     ]
    },
    {
     "name": "stderr",
     "output_type": "stream",
     "text": [
      "C:\\ProgramData\\Anaconda3\\lib\\site-packages\\sklearn\\metrics\\_classification.py:870: RuntimeWarning: invalid value encountered in double_scalars\n",
      "  mcc = cov_ytyp / np.sqrt(cov_ytyt * cov_ypyp)\n"
     ]
    },
    {
     "name": "stdout",
     "output_type": "stream",
     "text": [
      "Run 12 {'svc__C': 0.07742636826811278} 0.6958128078817734\n",
      "Run 13 {'svc__C': 0.07742636826811278} 0.7238916256157635\n",
      "Run 14 {'svc__C': 12.915496650148826} 0.6889162561576355\n",
      "Run 15 {'svc__C': 59948425.03189421} 0.6886699507389162\n"
     ]
    },
    {
     "name": "stderr",
     "output_type": "stream",
     "text": [
      "C:\\ProgramData\\Anaconda3\\lib\\site-packages\\sklearn\\metrics\\_classification.py:870: RuntimeWarning: invalid value encountered in double_scalars\n",
      "  mcc = cov_ytyp / np.sqrt(cov_ytyt * cov_ypyp)\n"
     ]
    },
    {
     "name": "stdout",
     "output_type": "stream",
     "text": [
      "Run 16 {'svc__C': 0.07742636826811278} 0.6876847290640394\n",
      "Run 17 {'svc__C': 0.07742636826811278} 0.7241379310344828\n",
      "Run 18 {'svc__C': 1e-10} 0.666256157635468\n"
     ]
    },
    {
     "name": "stderr",
     "output_type": "stream",
     "text": [
      "C:\\ProgramData\\Anaconda3\\lib\\site-packages\\sklearn\\metrics\\_classification.py:870: RuntimeWarning: invalid value encountered in double_scalars\n",
      "  mcc = cov_ytyp / np.sqrt(cov_ytyt * cov_ypyp)\n"
     ]
    },
    {
     "name": "stdout",
     "output_type": "stream",
     "text": [
      "Run 19 {'svc__C': 0.07742636826811278} 0.7017241379310345\n"
     ]
    },
    {
     "name": "stderr",
     "output_type": "stream",
     "text": [
      "C:\\ProgramData\\Anaconda3\\lib\\site-packages\\sklearn\\metrics\\_classification.py:870: RuntimeWarning: invalid value encountered in double_scalars\n",
      "  mcc = cov_ytyp / np.sqrt(cov_ytyt * cov_ypyp)\n"
     ]
    },
    {
     "name": "stdout",
     "output_type": "stream",
     "text": [
      "Run 20 {'svc__C': 0.07742636826811278} 0.6736453201970443\n",
      "Run 21 {'svc__C': 0.07742636826811278} 0.6741379310344827\n",
      "Run 22 {'svc__C': 359381.36638046405} 0.6812807881773398\n",
      "Run 23 {'svc__C': 2154.4346900318865} 0.6022167487684729\n",
      "Run 24 {'svc__C': 0.07742636826811278} 0.6820197044334976\n",
      "Run 25 {'svc__C': 10000000000.0} 0.617487684729064\n",
      "Run 26 {'svc__C': 0.07742636826811278} 0.6463054187192118\n",
      "Run 27 {'svc__C': 0.07742636826811278} 0.6800492610837439\n"
     ]
    },
    {
     "name": "stderr",
     "output_type": "stream",
     "text": [
      "C:\\ProgramData\\Anaconda3\\lib\\site-packages\\sklearn\\metrics\\_classification.py:870: RuntimeWarning: invalid value encountered in double_scalars\n",
      "  mcc = cov_ytyp / np.sqrt(cov_ytyt * cov_ypyp)\n"
     ]
    },
    {
     "name": "stdout",
     "output_type": "stream",
     "text": [
      "Run 28 {'svc__C': 12.915496650148826} 0.5672413793103448\n"
     ]
    },
    {
     "name": "stderr",
     "output_type": "stream",
     "text": [
      "C:\\ProgramData\\Anaconda3\\lib\\site-packages\\sklearn\\metrics\\_classification.py:870: RuntimeWarning: invalid value encountered in double_scalars\n",
      "  mcc = cov_ytyp / np.sqrt(cov_ytyt * cov_ypyp)\n"
     ]
    },
    {
     "name": "stdout",
     "output_type": "stream",
     "text": [
      "Run 29 {'svc__C': 0.07742636826811278} 0.6657635467980295\n",
      "Run 30 {'svc__C': 0.07742636826811278} 0.6817733990147785\n",
      "Run 31 {'svc__C': 0.07742636826811278} 0.6667487684729064\n",
      "Run 32 {'svc__C': 1e-10} 0.6891625615763546\n",
      "Run 33 {'svc__C': 0.07742636826811278} 0.6448275862068965\n",
      "Run 34 {'svc__C': 0.07742636826811278} 0.7241379310344828\n",
      "Run 35 {'svc__C': 12.915496650148826} 0.6258620689655172\n"
     ]
    },
    {
     "name": "stderr",
     "output_type": "stream",
     "text": [
      "C:\\ProgramData\\Anaconda3\\lib\\site-packages\\sklearn\\metrics\\_classification.py:870: RuntimeWarning: invalid value encountered in double_scalars\n",
      "  mcc = cov_ytyp / np.sqrt(cov_ytyt * cov_ypyp)\n"
     ]
    },
    {
     "name": "stdout",
     "output_type": "stream",
     "text": [
      "Run 36 {'svc__C': 59948425.03189421} 0.6665024630541871\n",
      "Run 37 {'svc__C': 0.07742636826811278} 0.6657635467980295\n"
     ]
    },
    {
     "name": "stderr",
     "output_type": "stream",
     "text": [
      "C:\\ProgramData\\Anaconda3\\lib\\site-packages\\sklearn\\metrics\\_classification.py:870: RuntimeWarning: invalid value encountered in double_scalars\n",
      "  mcc = cov_ytyp / np.sqrt(cov_ytyt * cov_ypyp)\n"
     ]
    },
    {
     "name": "stdout",
     "output_type": "stream",
     "text": [
      "Run 38 {'svc__C': 0.07742636826811278} 0.6810344827586208\n",
      "Run 39 {'svc__C': 1e-10} 0.6677339901477832\n"
     ]
    },
    {
     "name": "stderr",
     "output_type": "stream",
     "text": [
      "C:\\ProgramData\\Anaconda3\\lib\\site-packages\\sklearn\\metrics\\_classification.py:870: RuntimeWarning: invalid value encountered in double_scalars\n",
      "  mcc = cov_ytyp / np.sqrt(cov_ytyt * cov_ypyp)\n"
     ]
    },
    {
     "name": "stdout",
     "output_type": "stream",
     "text": [
      "Run 40 {'svc__C': 0.07742636826811278} 0.7307881773399015\n",
      "Run 41 {'svc__C': 2154.4346900318865} 0.6805418719211823\n",
      "Run 42 {'svc__C': 0.07742636826811278} 0.6674876847290641\n",
      "Run 43 {'svc__C': 0.07742636826811278} 0.7096059113300492\n",
      "Run 44 {'svc__C': 0.07742636826811278} 0.6465517241379309\n"
     ]
    },
    {
     "name": "stderr",
     "output_type": "stream",
     "text": [
      "C:\\ProgramData\\Anaconda3\\lib\\site-packages\\sklearn\\metrics\\_classification.py:870: RuntimeWarning: invalid value encountered in double_scalars\n",
      "  mcc = cov_ytyp / np.sqrt(cov_ytyt * cov_ypyp)\n"
     ]
    },
    {
     "name": "stdout",
     "output_type": "stream",
     "text": [
      "Run 45 {'svc__C': 59948425.03189421} 0.638177339901478\n",
      "Run 46 {'svc__C': 0.07742636826811278} 0.6669950738916257\n",
      "Run 47 {'svc__C': 0.07742636826811278} 0.65935960591133\n"
     ]
    },
    {
     "name": "stderr",
     "output_type": "stream",
     "text": [
      "C:\\ProgramData\\Anaconda3\\lib\\site-packages\\sklearn\\metrics\\_classification.py:870: RuntimeWarning: invalid value encountered in double_scalars\n",
      "  mcc = cov_ytyp / np.sqrt(cov_ytyt * cov_ypyp)\n"
     ]
    },
    {
     "name": "stdout",
     "output_type": "stream",
     "text": [
      "Run 48 {'svc__C': 0.07742636826811278} 0.6241379310344828\n"
     ]
    },
    {
     "name": "stderr",
     "output_type": "stream",
     "text": [
      "C:\\ProgramData\\Anaconda3\\lib\\site-packages\\sklearn\\metrics\\_classification.py:870: RuntimeWarning: invalid value encountered in double_scalars\n",
      "  mcc = cov_ytyp / np.sqrt(cov_ytyt * cov_ypyp)\n"
     ]
    },
    {
     "name": "stdout",
     "output_type": "stream",
     "text": [
      "Run 49 {'svc__C': 0.07742636826811278} 0.6514778325123153\n",
      "Run 50 {'svc__C': 0.07742636826811278} 0.7243842364532019\n",
      "Run 51 {'svc__C': 0.07742636826811278} 0.738423645320197\n",
      "Run 52 {'svc__C': 0.07742636826811278} 0.6736453201970444\n",
      "Run 53 {'svc__C': 0.07742636826811278} 0.6320197044334975\n"
     ]
    },
    {
     "name": "stderr",
     "output_type": "stream",
     "text": [
      "C:\\ProgramData\\Anaconda3\\lib\\site-packages\\sklearn\\metrics\\_classification.py:870: RuntimeWarning: invalid value encountered in double_scalars\n",
      "  mcc = cov_ytyp / np.sqrt(cov_ytyt * cov_ypyp)\n"
     ]
    },
    {
     "name": "stdout",
     "output_type": "stream",
     "text": [
      "Run 54 {'svc__C': 0.07742636826811278} 0.6731527093596059\n",
      "Run 55 {'svc__C': 0.07742636826811278} 0.6450738916256158\n",
      "Run 56 {'svc__C': 12.915496650148826} 0.6386699507389162\n",
      "Run 57 {'svc__C': 12.915496650148826} 0.737192118226601\n",
      "Run 58 {'svc__C': 0.07742636826811278} 0.7093596059113301\n",
      "Run 59 {'svc__C': 12.915496650148826} 0.6884236453201971\n",
      "Run 60 {'svc__C': 0.07742636826811278} 0.6874384236453202\n"
     ]
    },
    {
     "name": "stderr",
     "output_type": "stream",
     "text": [
      "C:\\ProgramData\\Anaconda3\\lib\\site-packages\\sklearn\\metrics\\_classification.py:870: RuntimeWarning: invalid value encountered in double_scalars\n",
      "  mcc = cov_ytyp / np.sqrt(cov_ytyt * cov_ypyp)\n"
     ]
    },
    {
     "name": "stdout",
     "output_type": "stream",
     "text": [
      "Run 61 {'svc__C': 0.07742636826811278} 0.6733990147783252\n",
      "Run 62 {'svc__C': 0.07742636826811278} 0.7310344827586206\n",
      "Run 63 {'svc__C': 0.07742636826811278} 0.6381773399014777\n",
      "Run 64 {'svc__C': 0.07742636826811278} 0.6879310344827585\n"
     ]
    },
    {
     "name": "stderr",
     "output_type": "stream",
     "text": [
      "C:\\ProgramData\\Anaconda3\\lib\\site-packages\\sklearn\\metrics\\_classification.py:870: RuntimeWarning: invalid value encountered in double_scalars\n",
      "  mcc = cov_ytyp / np.sqrt(cov_ytyt * cov_ypyp)\n"
     ]
    },
    {
     "name": "stdout",
     "output_type": "stream",
     "text": [
      "Run 65 {'svc__C': 2154.4346900318865} 0.6886699507389162\n",
      "Run 66 {'svc__C': 0.07742636826811278} 0.6657635467980295\n",
      "Run 67 {'svc__C': 359381.36638046405} 0.5603448275862069\n"
     ]
    },
    {
     "name": "stderr",
     "output_type": "stream",
     "text": [
      "C:\\ProgramData\\Anaconda3\\lib\\site-packages\\sklearn\\metrics\\_classification.py:870: RuntimeWarning: invalid value encountered in double_scalars\n",
      "  mcc = cov_ytyp / np.sqrt(cov_ytyt * cov_ypyp)\n"
     ]
    },
    {
     "name": "stdout",
     "output_type": "stream",
     "text": [
      "Run 68 {'svc__C': 0.07742636826811278} 0.6529556650246305\n",
      "Run 69 {'svc__C': 0.07742636826811278} 0.6738916256157635\n",
      "Run 70 {'svc__C': 1e-10} 0.7172413793103448\n",
      "Run 71 {'svc__C': 0.07742636826811278} 0.7169950738916256\n",
      "Run 72 {'svc__C': 2154.4346900318865} 0.7236453201970443\n",
      "Run 73 {'svc__C': 0.07742636826811278} 0.6817733990147785\n",
      "Run 74 {'svc__C': 2154.4346900318865} 0.730295566502463\n"
     ]
    },
    {
     "name": "stderr",
     "output_type": "stream",
     "text": [
      "C:\\ProgramData\\Anaconda3\\lib\\site-packages\\sklearn\\metrics\\_classification.py:870: RuntimeWarning: invalid value encountered in double_scalars\n",
      "  mcc = cov_ytyp / np.sqrt(cov_ytyt * cov_ypyp)\n"
     ]
    },
    {
     "name": "stdout",
     "output_type": "stream",
     "text": [
      "Run 75 {'svc__C': 0.07742636826811278} 0.7165024630541872\n",
      "Run 76 {'svc__C': 12.915496650148826} 0.6807881773399016\n",
      "Run 77 {'svc__C': 10000000000.0} 0.6879310344827585\n",
      "Run 78 {'svc__C': 2154.4346900318865} 0.6524630541871921\n",
      "Run 79 {'svc__C': 12.915496650148826} 0.6800492610837439\n"
     ]
    },
    {
     "name": "stderr",
     "output_type": "stream",
     "text": [
      "C:\\ProgramData\\Anaconda3\\lib\\site-packages\\sklearn\\metrics\\_classification.py:870: RuntimeWarning: invalid value encountered in double_scalars\n",
      "  mcc = cov_ytyp / np.sqrt(cov_ytyt * cov_ypyp)\n"
     ]
    },
    {
     "name": "stdout",
     "output_type": "stream",
     "text": [
      "Run 80 {'svc__C': 0.07742636826811278} 0.7024630541871921\n"
     ]
    },
    {
     "name": "stderr",
     "output_type": "stream",
     "text": [
      "C:\\ProgramData\\Anaconda3\\lib\\site-packages\\sklearn\\metrics\\_classification.py:870: RuntimeWarning: invalid value encountered in double_scalars\n",
      "  mcc = cov_ytyp / np.sqrt(cov_ytyt * cov_ypyp)\n"
     ]
    },
    {
     "name": "stdout",
     "output_type": "stream",
     "text": [
      "Run 81 {'svc__C': 0.07742636826811278} 0.5958128078817734\n",
      "Run 82 {'svc__C': 0.07742636826811278} 0.7027093596059113\n"
     ]
    },
    {
     "name": "stderr",
     "output_type": "stream",
     "text": [
      "C:\\ProgramData\\Anaconda3\\lib\\site-packages\\sklearn\\metrics\\_classification.py:870: RuntimeWarning: invalid value encountered in double_scalars\n",
      "  mcc = cov_ytyp / np.sqrt(cov_ytyt * cov_ypyp)\n"
     ]
    },
    {
     "name": "stdout",
     "output_type": "stream",
     "text": [
      "Run 83 {'svc__C': 2154.4346900318865} 0.6810344827586208\n",
      "Run 84 {'svc__C': 2154.4346900318865} 0.7300492610837439\n",
      "Run 85 {'svc__C': 359381.36638046405} 0.7017241379310344\n",
      "Run 86 {'svc__C': 12.915496650148826} 0.6746305418719213\n",
      "Run 87 {'svc__C': 0.07742636826811278} 0.653448275862069\n",
      "Run 88 {'svc__C': 0.07742636826811278} 0.7167487684729064\n",
      "Run 89 {'svc__C': 0.07742636826811278} 0.752463054187192\n",
      "Run 90 {'svc__C': 0.07742636826811278} 0.6086206896551725\n",
      "Run 91 {'svc__C': 2154.4346900318865} 0.6100985221674877\n",
      "Run 92 {'svc__C': 10000000000.0} 0.7512315270935961\n"
     ]
    },
    {
     "name": "stderr",
     "output_type": "stream",
     "text": [
      "C:\\ProgramData\\Anaconda3\\lib\\site-packages\\sklearn\\metrics\\_classification.py:870: RuntimeWarning: invalid value encountered in double_scalars\n",
      "  mcc = cov_ytyp / np.sqrt(cov_ytyt * cov_ypyp)\n"
     ]
    },
    {
     "name": "stdout",
     "output_type": "stream",
     "text": [
      "Run 93 {'svc__C': 2154.4346900318865} 0.6583743842364532\n"
     ]
    },
    {
     "name": "stderr",
     "output_type": "stream",
     "text": [
      "C:\\ProgramData\\Anaconda3\\lib\\site-packages\\sklearn\\metrics\\_classification.py:870: RuntimeWarning: invalid value encountered in double_scalars\n",
      "  mcc = cov_ytyp / np.sqrt(cov_ytyt * cov_ypyp)\n"
     ]
    },
    {
     "name": "stdout",
     "output_type": "stream",
     "text": [
      "Run 94 {'svc__C': 0.07742636826811278} 0.737192118226601\n",
      "Run 95 {'svc__C': 0.07742636826811278} 0.6889162561576354\n",
      "Run 96 {'svc__C': 1e-10} 0.6876847290640394\n",
      "Run 97 {'svc__C': 12.915496650148826} 0.6736453201970444\n"
     ]
    },
    {
     "name": "stderr",
     "output_type": "stream",
     "text": [
      "C:\\ProgramData\\Anaconda3\\lib\\site-packages\\sklearn\\metrics\\_classification.py:870: RuntimeWarning: invalid value encountered in double_scalars\n",
      "  mcc = cov_ytyp / np.sqrt(cov_ytyt * cov_ypyp)\n"
     ]
    },
    {
     "name": "stdout",
     "output_type": "stream",
     "text": [
      "Run 98 {'svc__C': 0.07742636826811278} 0.5967980295566502\n",
      "Run 99 {'svc__C': 59948425.03189421} 0.6667487684729064\n"
     ]
    },
    {
     "name": "stderr",
     "output_type": "stream",
     "text": [
      "C:\\ProgramData\\Anaconda3\\lib\\site-packages\\sklearn\\metrics\\_classification.py:870: RuntimeWarning: invalid value encountered in double_scalars\n",
      "  mcc = cov_ytyp / np.sqrt(cov_ytyt * cov_ypyp)\n"
     ]
    },
    {
     "name": "stdout",
     "output_type": "stream",
     "text": [
      "Run 100 {'svc__C': 0.07742636826811278} 0.680295566502463\n",
      "Run 101 {'svc__C': 1e-10} 0.6945812807881773\n",
      "Run 102 {'svc__C': 0.07742636826811278} 0.6588669950738917\n",
      "Run 103 {'svc__C': 10000000000.0} 0.6729064039408867\n",
      "Run 104 {'svc__C': 0.07742636826811278} 0.6876847290640394\n"
     ]
    },
    {
     "name": "stderr",
     "output_type": "stream",
     "text": [
      "C:\\ProgramData\\Anaconda3\\lib\\site-packages\\sklearn\\metrics\\_classification.py:870: RuntimeWarning: invalid value encountered in double_scalars\n",
      "  mcc = cov_ytyp / np.sqrt(cov_ytyt * cov_ypyp)\n"
     ]
    },
    {
     "name": "stdout",
     "output_type": "stream",
     "text": [
      "Run 105 {'svc__C': 12.915496650148826} 0.7379310344827585\n",
      "Run 106 {'svc__C': 0.07742636826811278} 0.7098522167487685\n"
     ]
    },
    {
     "name": "stderr",
     "output_type": "stream",
     "text": [
      "C:\\ProgramData\\Anaconda3\\lib\\site-packages\\sklearn\\metrics\\_classification.py:870: RuntimeWarning: invalid value encountered in double_scalars\n",
      "  mcc = cov_ytyp / np.sqrt(cov_ytyt * cov_ypyp)\n"
     ]
    },
    {
     "name": "stdout",
     "output_type": "stream",
     "text": [
      "Run 107 {'svc__C': 0.07742636826811278} 0.6529556650246306\n"
     ]
    },
    {
     "name": "stderr",
     "output_type": "stream",
     "text": [
      "C:\\ProgramData\\Anaconda3\\lib\\site-packages\\sklearn\\metrics\\_classification.py:870: RuntimeWarning: invalid value encountered in double_scalars\n",
      "  mcc = cov_ytyp / np.sqrt(cov_ytyt * cov_ypyp)\n"
     ]
    },
    {
     "name": "stdout",
     "output_type": "stream",
     "text": [
      "Run 108 {'svc__C': 10000000000.0} 0.6943349753694582\n"
     ]
    },
    {
     "name": "stderr",
     "output_type": "stream",
     "text": [
      "C:\\ProgramData\\Anaconda3\\lib\\site-packages\\sklearn\\metrics\\_classification.py:870: RuntimeWarning: invalid value encountered in double_scalars\n",
      "  mcc = cov_ytyp / np.sqrt(cov_ytyt * cov_ypyp)\n"
     ]
    },
    {
     "name": "stdout",
     "output_type": "stream",
     "text": [
      "Run 109 {'svc__C': 0.07742636826811278} 0.680049261083744\n",
      "Run 110 {'svc__C': 0.07742636826811278} 0.6591133004926107\n"
     ]
    },
    {
     "name": "stderr",
     "output_type": "stream",
     "text": [
      "C:\\ProgramData\\Anaconda3\\lib\\site-packages\\sklearn\\metrics\\_classification.py:870: RuntimeWarning: invalid value encountered in double_scalars\n",
      "  mcc = cov_ytyp / np.sqrt(cov_ytyt * cov_ypyp)\n"
     ]
    },
    {
     "name": "stdout",
     "output_type": "stream",
     "text": [
      "Run 111 {'svc__C': 0.07742636826811278} 0.7165024630541872\n",
      "Run 112 {'svc__C': 0.07742636826811278} 0.730295566502463\n",
      "Run 113 {'svc__C': 0.07742636826811278} 0.6519704433497537\n"
     ]
    },
    {
     "name": "stderr",
     "output_type": "stream",
     "text": [
      "C:\\ProgramData\\Anaconda3\\lib\\site-packages\\sklearn\\metrics\\_classification.py:870: RuntimeWarning: invalid value encountered in double_scalars\n",
      "  mcc = cov_ytyp / np.sqrt(cov_ytyt * cov_ypyp)\n"
     ]
    },
    {
     "name": "stdout",
     "output_type": "stream",
     "text": [
      "Run 114 {'svc__C': 0.07742636826811278} 0.6807881773399014\n",
      "Run 115 {'svc__C': 0.07742636826811278} 0.6307881773399014\n"
     ]
    },
    {
     "name": "stderr",
     "output_type": "stream",
     "text": [
      "C:\\ProgramData\\Anaconda3\\lib\\site-packages\\sklearn\\metrics\\_classification.py:870: RuntimeWarning: invalid value encountered in double_scalars\n",
      "  mcc = cov_ytyp / np.sqrt(cov_ytyt * cov_ypyp)\n"
     ]
    },
    {
     "name": "stdout",
     "output_type": "stream",
     "text": [
      "Run 116 {'svc__C': 0.07742636826811278} 0.6603448275862068\n",
      "Run 117 {'svc__C': 0.07742636826811278} 0.6448275862068966\n",
      "Run 118 {'svc__C': 0.07742636826811278} 0.7810344827586206\n",
      "Run 119 {'svc__C': 2154.4346900318865} 0.5889162561576354\n",
      "Run 120 {'svc__C': 2154.4346900318865} 0.6522167487684729\n",
      "Run 121 {'svc__C': 0.07742636826811278} 0.7233990147783251\n",
      "Run 122 {'svc__C': 1e-10} 0.7655172413793103\n",
      "Run 123 {'svc__C': 0.07742636826811278} 0.7160098522167487\n",
      "Run 124 {'svc__C': 0.07742636826811278} 0.680295566502463\n",
      "Run 125 {'svc__C': 59948425.03189421} 0.7450738916256159\n",
      "Run 126 {'svc__C': 0.07742636826811278} 0.7379310344827585\n"
     ]
    },
    {
     "name": "stderr",
     "output_type": "stream",
     "text": [
      "C:\\ProgramData\\Anaconda3\\lib\\site-packages\\sklearn\\metrics\\_classification.py:870: RuntimeWarning: invalid value encountered in double_scalars\n",
      "  mcc = cov_ytyp / np.sqrt(cov_ytyt * cov_ypyp)\n"
     ]
    },
    {
     "name": "stdout",
     "output_type": "stream",
     "text": [
      "Run 127 {'svc__C': 12.915496650148826} 0.6667487684729064\n"
     ]
    },
    {
     "name": "stderr",
     "output_type": "stream",
     "text": [
      "C:\\ProgramData\\Anaconda3\\lib\\site-packages\\sklearn\\metrics\\_classification.py:870: RuntimeWarning: invalid value encountered in double_scalars\n",
      "  mcc = cov_ytyp / np.sqrt(cov_ytyt * cov_ypyp)\n"
     ]
    },
    {
     "name": "stdout",
     "output_type": "stream",
     "text": [
      "Run 128 {'svc__C': 0.07742636826811278} 0.7519704433497536\n",
      "Run 129 {'svc__C': 12.915496650148826} 0.6455665024630541\n",
      "Run 130 {'svc__C': 0.07742636826811278} 0.6310344827586206\n"
     ]
    },
    {
     "name": "stderr",
     "output_type": "stream",
     "text": [
      "C:\\ProgramData\\Anaconda3\\lib\\site-packages\\sklearn\\metrics\\_classification.py:870: RuntimeWarning: invalid value encountered in double_scalars\n",
      "  mcc = cov_ytyp / np.sqrt(cov_ytyt * cov_ypyp)\n"
     ]
    },
    {
     "name": "stdout",
     "output_type": "stream",
     "text": [
      "Run 131 {'svc__C': 0.07742636826811278} 0.7233990147783251\n",
      "Run 132 {'svc__C': 0.07742636826811278} 0.6463054187192119\n",
      "Run 133 {'svc__C': 0.07742636826811278} 0.5948275862068966\n",
      "Run 134 {'svc__C': 0.07742636826811278} 0.6376847290640395\n"
     ]
    },
    {
     "name": "stderr",
     "output_type": "stream",
     "text": [
      "C:\\ProgramData\\Anaconda3\\lib\\site-packages\\sklearn\\metrics\\_classification.py:870: RuntimeWarning: invalid value encountered in double_scalars\n",
      "  mcc = cov_ytyp / np.sqrt(cov_ytyt * cov_ypyp)\n"
     ]
    },
    {
     "name": "stdout",
     "output_type": "stream",
     "text": [
      "Run 135 {'svc__C': 0.07742636826811278} 0.6886699507389162\n",
      "Run 136 {'svc__C': 0.07742636826811278} 0.7093596059113301\n",
      "Run 137 {'svc__C': 0.07742636826811278} 0.7443349753694581\n",
      "Run 138 {'svc__C': 2154.4346900318865} 0.7310344827586206\n",
      "Run 139 {'svc__C': 59948425.03189421} 0.7231527093596058\n",
      "Run 140 {'svc__C': 0.07742636826811278} 0.6307881773399014\n",
      "Run 141 {'svc__C': 0.07742636826811278} 0.7029556650246306\n",
      "Run 142 {'svc__C': 0.07742636826811278} 0.6527093596059114\n",
      "Run 143 {'svc__C': 59948425.03189421} 0.6529556650246305\n"
     ]
    },
    {
     "name": "stderr",
     "output_type": "stream",
     "text": [
      "C:\\ProgramData\\Anaconda3\\lib\\site-packages\\sklearn\\metrics\\_classification.py:870: RuntimeWarning: invalid value encountered in double_scalars\n",
      "  mcc = cov_ytyp / np.sqrt(cov_ytyt * cov_ypyp)\n"
     ]
    },
    {
     "name": "stdout",
     "output_type": "stream",
     "text": [
      "Run 144 {'svc__C': 0.07742636826811278} 0.8088669950738916\n",
      "Run 145 {'svc__C': 0.07742636826811278} 0.6889162561576354\n",
      "Run 146 {'svc__C': 0.07742636826811278} 0.7160098522167487\n"
     ]
    },
    {
     "name": "stderr",
     "output_type": "stream",
     "text": [
      "C:\\ProgramData\\Anaconda3\\lib\\site-packages\\sklearn\\metrics\\_classification.py:870: RuntimeWarning: invalid value encountered in double_scalars\n",
      "  mcc = cov_ytyp / np.sqrt(cov_ytyt * cov_ypyp)\n"
     ]
    },
    {
     "name": "stdout",
     "output_type": "stream",
     "text": [
      "Run 147 {'svc__C': 0.07742636826811278} 0.6519704433497537\n",
      "Run 148 {'svc__C': 12.915496650148826} 0.5608374384236454\n"
     ]
    },
    {
     "name": "stderr",
     "output_type": "stream",
     "text": [
      "C:\\ProgramData\\Anaconda3\\lib\\site-packages\\sklearn\\metrics\\_classification.py:870: RuntimeWarning: invalid value encountered in double_scalars\n",
      "  mcc = cov_ytyp / np.sqrt(cov_ytyt * cov_ypyp)\n"
     ]
    },
    {
     "name": "stdout",
     "output_type": "stream",
     "text": [
      "Run 149 {'svc__C': 12.915496650148826} 0.6876847290640394\n"
     ]
    },
    {
     "name": "stderr",
     "output_type": "stream",
     "text": [
      "C:\\ProgramData\\Anaconda3\\lib\\site-packages\\sklearn\\metrics\\_classification.py:870: RuntimeWarning: invalid value encountered in double_scalars\n",
      "  mcc = cov_ytyp / np.sqrt(cov_ytyt * cov_ypyp)\n"
     ]
    },
    {
     "name": "stdout",
     "output_type": "stream",
     "text": [
      "Run 150 {'svc__C': 0.07742636826811278} 0.702216748768473\n",
      "Run 151 {'svc__C': 0.07742636826811278} 0.6665024630541871\n",
      "Run 152 {'svc__C': 0.07742636826811278} 0.6667487684729064\n",
      "Run 153 {'svc__C': 59948425.03189421} 0.7231527093596058\n"
     ]
    },
    {
     "name": "stderr",
     "output_type": "stream",
     "text": [
      "C:\\ProgramData\\Anaconda3\\lib\\site-packages\\sklearn\\metrics\\_classification.py:870: RuntimeWarning: invalid value encountered in double_scalars\n",
      "  mcc = cov_ytyp / np.sqrt(cov_ytyt * cov_ypyp)\n"
     ]
    },
    {
     "name": "stdout",
     "output_type": "stream",
     "text": [
      "Run 154 {'svc__C': 0.07742636826811278} 0.667487684729064\n",
      "Run 155 {'svc__C': 0.07742636826811278} 0.7093596059113301\n",
      "Run 156 {'svc__C': 59948425.03189421} 0.6236453201970443\n",
      "Run 157 {'svc__C': 0.07742636826811278} 0.6600985221674878\n"
     ]
    },
    {
     "name": "stderr",
     "output_type": "stream",
     "text": [
      "C:\\ProgramData\\Anaconda3\\lib\\site-packages\\sklearn\\metrics\\_classification.py:870: RuntimeWarning: invalid value encountered in double_scalars\n",
      "  mcc = cov_ytyp / np.sqrt(cov_ytyt * cov_ypyp)\n"
     ]
    },
    {
     "name": "stdout",
     "output_type": "stream",
     "text": [
      "Run 158 {'svc__C': 0.07742636826811278} 0.602463054187192\n"
     ]
    },
    {
     "name": "stderr",
     "output_type": "stream",
     "text": [
      "C:\\ProgramData\\Anaconda3\\lib\\site-packages\\sklearn\\metrics\\_classification.py:870: RuntimeWarning: invalid value encountered in double_scalars\n",
      "  mcc = cov_ytyp / np.sqrt(cov_ytyt * cov_ypyp)\n"
     ]
    },
    {
     "name": "stdout",
     "output_type": "stream",
     "text": [
      "Run 159 {'svc__C': 12.915496650148826} 0.6876847290640394\n",
      "Run 160 {'svc__C': 1e-10} 0.7231527093596058\n",
      "Run 161 {'svc__C': 2154.4346900318865} 0.7093596059113301\n"
     ]
    },
    {
     "name": "stderr",
     "output_type": "stream",
     "text": [
      "C:\\ProgramData\\Anaconda3\\lib\\site-packages\\sklearn\\metrics\\_classification.py:870: RuntimeWarning: invalid value encountered in double_scalars\n",
      "  mcc = cov_ytyp / np.sqrt(cov_ytyt * cov_ypyp)\n"
     ]
    },
    {
     "name": "stdout",
     "output_type": "stream",
     "text": [
      "Run 162 {'svc__C': 12.915496650148826} 0.6603448275862068\n"
     ]
    },
    {
     "name": "stderr",
     "output_type": "stream",
     "text": [
      "C:\\ProgramData\\Anaconda3\\lib\\site-packages\\sklearn\\metrics\\_classification.py:870: RuntimeWarning: invalid value encountered in double_scalars\n",
      "  mcc = cov_ytyp / np.sqrt(cov_ytyt * cov_ypyp)\n"
     ]
    },
    {
     "name": "stdout",
     "output_type": "stream",
     "text": [
      "Run 163 {'svc__C': 0.07742636826811278} 0.6529556650246306\n",
      "Run 164 {'svc__C': 12.915496650148826} 0.7032019704433499\n",
      "Run 165 {'svc__C': 359381.36638046405} 0.7100985221674876\n",
      "Run 166 {'svc__C': 0.07742636826811278} 0.7091133004926109\n",
      "Run 167 {'svc__C': 12.915496650148826} 0.7310344827586206\n",
      "Run 168 {'svc__C': 0.07742636826811278} 0.5955665024630542\n",
      "Run 169 {'svc__C': 0.07742636826811278} 0.6746305418719213\n",
      "Run 170 {'svc__C': 0.07742636826811278} 0.666256157635468\n",
      "Run 171 {'svc__C': 0.07742636826811278} 0.6891625615763547\n",
      "Run 172 {'svc__C': 1e-10} 0.7017241379310345\n",
      "Run 173 {'svc__C': 0.07742636826811278} 0.6669950738916256\n",
      "Run 174 {'svc__C': 0.07742636826811278} 0.695320197044335\n",
      "Run 175 {'svc__C': 0.07742636826811278} 0.5950738916256157\n",
      "Run 176 {'svc__C': 2154.4346900318865} 0.6876847290640395\n",
      "Run 177 {'svc__C': 0.07742636826811278} 0.6886699507389162\n",
      "Run 178 {'svc__C': 0.07742636826811278} 0.6948275862068966\n",
      "Run 179 {'svc__C': 0.07742636826811278} 0.6820197044334976\n"
     ]
    },
    {
     "name": "stderr",
     "output_type": "stream",
     "text": [
      "C:\\ProgramData\\Anaconda3\\lib\\site-packages\\sklearn\\metrics\\_classification.py:870: RuntimeWarning: invalid value encountered in double_scalars\n",
      "  mcc = cov_ytyp / np.sqrt(cov_ytyt * cov_ypyp)\n"
     ]
    },
    {
     "name": "stdout",
     "output_type": "stream",
     "text": [
      "Run 180 {'svc__C': 0.07742636826811278} 0.6455665024630541\n",
      "Run 181 {'svc__C': 0.07742636826811278} 0.6657635467980296\n",
      "Run 182 {'svc__C': 59948425.03189421} 0.6746305418719212\n",
      "Run 183 {'svc__C': 12.915496650148826} 0.7233990147783251\n",
      "Run 184 {'svc__C': 0.07742636826811278} 0.7091133004926109\n",
      "Run 185 {'svc__C': 0.07742636826811278} 0.6955665024630541\n",
      "Run 186 {'svc__C': 0.07742636826811278} 0.6455665024630541\n"
     ]
    },
    {
     "name": "stderr",
     "output_type": "stream",
     "text": [
      "C:\\ProgramData\\Anaconda3\\lib\\site-packages\\sklearn\\metrics\\_classification.py:870: RuntimeWarning: invalid value encountered in double_scalars\n",
      "  mcc = cov_ytyp / np.sqrt(cov_ytyt * cov_ypyp)\n"
     ]
    },
    {
     "name": "stdout",
     "output_type": "stream",
     "text": [
      "Run 187 {'svc__C': 0.07742636826811278} 0.7448275862068966\n",
      "Run 188 {'svc__C': 0.07742636826811278} 0.6657635467980295\n",
      "Run 189 {'svc__C': 0.07742636826811278} 0.6950738916256158\n",
      "Run 190 {'svc__C': 10000000000.0} 0.6800492610837438\n",
      "Run 191 {'svc__C': 0.07742636826811278} 0.6741379310344828\n"
     ]
    },
    {
     "name": "stderr",
     "output_type": "stream",
     "text": [
      "C:\\ProgramData\\Anaconda3\\lib\\site-packages\\sklearn\\metrics\\_classification.py:870: RuntimeWarning: invalid value encountered in double_scalars\n",
      "  mcc = cov_ytyp / np.sqrt(cov_ytyt * cov_ypyp)\n"
     ]
    },
    {
     "name": "stdout",
     "output_type": "stream",
     "text": [
      "Run 192 {'svc__C': 0.07742636826811278} 0.7386699507389162\n",
      "Run 193 {'svc__C': 0.07742636826811278} 0.6536945812807883\n",
      "Run 194 {'svc__C': 0.07742636826811278} 0.6889162561576354\n",
      "Run 195 {'svc__C': 0.07742636826811278} 0.6943349753694582\n",
      "Run 196 {'svc__C': 0.07742636826811278} 0.6600985221674877\n",
      "Run 197 {'svc__C': 0.07742636826811278} 0.6532019704433498\n",
      "Run 198 {'svc__C': 12.915496650148826} 0.6800492610837439\n",
      "Run 199 {'svc__C': 1e-10} 0.6305418719211823\n",
      "Run 200 {'svc__C': 0.07742636826811278} 0.6381773399014777\n"
     ]
    },
    {
     "name": "stderr",
     "output_type": "stream",
     "text": [
      "C:\\ProgramData\\Anaconda3\\lib\\site-packages\\sklearn\\metrics\\_classification.py:870: RuntimeWarning: invalid value encountered in double_scalars\n",
      "  mcc = cov_ytyp / np.sqrt(cov_ytyt * cov_ypyp)\n"
     ]
    },
    {
     "name": "stdout",
     "output_type": "stream",
     "text": [
      "Average accuracy: 0.6659999999999999 with standard deviation: 0.1576197957110718\n",
      "Average MCC: 0.04114296419960483 with standard deviation: 0.2999281853391168\n"
     ]
    }
   ],
   "source": [
    "from sklearn.utils import shuffle\n",
    "from imblearn.pipeline import Pipeline\n",
    "from imblearn.over_sampling import RandomOverSampler\n",
    "from imblearn.under_sampling import RandomUnderSampler\n",
    "from sklearn.compose import ColumnTransformer\n",
    "from sklearn.feature_selection import VarianceThreshold\n",
    "from sklearn.model_selection import StratifiedKFold, GridSearchCV\n",
    "from sklearn.svm import SVC\n",
    "from sklearn.metrics import accuracy_score, matthews_corrcoef\n",
    "\n",
    "lambdas = np.logspace(-10, 10, num=10)\n",
    "tumor_samples = fulldata[targets==1,:]\n",
    "healthy_samples = fulldata[targets==0,:]\n",
    "cv = StratifiedKFold(n_splits=NUMBER_INTERNAL_FOLDS, shuffle=True, random_state=random_state)\n",
    "\n",
    "separate_pipeline = Pipeline(steps=[\n",
    "    (\"var_selection\", VarianceThreshold(threshold=var_threshold)), \n",
    "    (\"reduntant_trim\", RedundantTrimmer()), \n",
    "    (\"plsda\", PLSDiscriminantAnalysis()) # standardises automatically\n",
    "])\n",
    "\n",
    "pipe = Pipeline(steps=[\n",
    "    (\"oversampling\", RandomOverSampler(sampling_strategy=\"minority\", random_state=random_state)), \n",
    "    (\"undersampling\", RandomUnderSampler(sampling_strategy={0:NUMBER_TRAIN_SAMPLES, 1:NUMBER_TRAIN_SAMPLES}, \n",
    "                                         random_state=random_state)),\n",
    "    (\"separate_pipelines\", ColumnTransformer([\n",
    "        (\"fluxes\", separate_pipeline, list(range(fluxes_length))), # fluxes\n",
    "        (\"genes\", separate_pipeline, list(range(fluxes_length, omics_length))) #genes\n",
    "    ])),\n",
    "    (\"standardise\", StandardScaler()), \n",
    "    ('svc', SVC(kernel=\"linear\", random_state=rng))\n",
    "])\n",
    "\n",
    "\n",
    "params = {\n",
    "    \"svc__C\": lambdas\n",
    "}\n",
    "\n",
    "accuracies = np.zeros(NUMBER_REPETITIONS)\n",
    "MCCs = np.zeros(NUMBER_REPETITIONS)\n",
    "predictors =  np.zeros(NUMBER_REPETITIONS, dtype=object)\n",
    "pathways =  np.zeros(NUMBER_REPETITIONS, dtype=object)\n",
    "genes =  np.zeros(NUMBER_REPETITIONS, dtype=object)\n",
    "plsda_scores_f = np.zeros(NUMBER_REPETITIONS, dtype=object)\n",
    "plsda_scores_g = np.zeros(NUMBER_REPETITIONS, dtype=object)\n",
    "Ytrue = np.zeros((NUMBER_REPETITIONS, NUMBER_TEST_SAMPLES * 2))\n",
    "Ypred = np.zeros((NUMBER_REPETITIONS, NUMBER_TEST_SAMPLES * 2))\n",
    "testSamples = np.zeros((NUMBER_REPETITIONS, NUMBER_TEST_SAMPLES * 2))\n",
    "betas = list()\n",
    "\n",
    "for rep in range(NUMBER_REPETITIONS):\n",
    "    test_idx1 = random.sample(range(len(healthy_samples)), NUMBER_TEST_SAMPLES)\n",
    "    test_idx2 = random.sample(range(len(tumor_samples)), NUMBER_TEST_SAMPLES)  \n",
    "    testSamples[rep] = np.concatenate((test_idx1, test_idx2)) + 1 # for use in MATLAB\n",
    "       \n",
    "    Xtest = np.concatenate((healthy_samples[test_idx1,:], tumor_samples[test_idx2,:]))\n",
    "    ytest = [i for i in range(2) for _ in range(NUMBER_TEST_SAMPLES)]\n",
    "    \n",
    "    train_healthy = np.delete(healthy_samples, test_idx1, axis=0)\n",
    "    train_tumor = np.delete(tumor_samples, test_idx2, axis=0)\n",
    "    Xtrain = np.concatenate((train_healthy, train_tumor))\n",
    "    Xtrain, ytrain = shuffle(Xtrain, np.concatenate(([0] * len(train_healthy), [1] * len(train_tumor))), \n",
    "                             random_state=random_state)\n",
    "    \n",
    "    if permute == \"_label_permutation\":\n",
    "        ys = np.concatenate((ytrain, ytest))\n",
    "        random.shuffle(ys)\n",
    "        ytrain, ytest = ys[:len(ytrain)], ys[-len(ytest):]\n",
    "    elif permute == \"_feature_permutation\":\n",
    "        raise NotImplementedError\n",
    "    else:\n",
    "        pass\n",
    "    \n",
    "    gs = GridSearchCV(pipe, param_grid=params, cv=cv, refit=True, n_jobs=-3) \n",
    "    gs.fit(Xtrain, ytrain)  \n",
    "    print(\"Run\", rep + 1, gs.best_params_, gs.best_score_) \n",
    "    ypred = gs.predict(Xtest)\n",
    "    accuracies[rep] = accuracy_score(ytest, ypred)\n",
    "    MCCs[rep] = matthews_corrcoef(ytest, ypred)\n",
    "    Ytrue[rep] = ytest\n",
    "    Ypred[rep] = ypred\n",
    "    \n",
    "    Xtrain = Xtrain[gs.best_estimator_[\"oversampling\"].sample_indices_, :]\n",
    "    Xtrain = Xtrain[gs.best_estimator_[\"undersampling\"].sample_indices_, :]\n",
    "    # fluxes\n",
    "    flux_train = Xtrain[:, :fluxes_length]\n",
    "    remove_indices = gs.best_estimator_[\"separate_pipelines\"].transformers_[0][1][\"var_selection\"].get_support()\n",
    "    flux_train = flux_train[:,remove_indices]\n",
    "    _, _, collapse_indices = np.unique(flux_train, return_index=True, return_inverse=1, axis=1)    \n",
    "    predictors[rep] = getFeatures(rxn_list, remove_indices, collapse_indices)\n",
    "    pathways[rep] = getFeatures(pathway_list, remove_indices, collapse_indices)\n",
    "    plsda_scores_f[rep] = gs.best_estimator_[\"separate_pipelines\"].transformers_[0][1][\"plsda\"].PLSDA.x_rotations_\n",
    "    # genes\n",
    "    genes_train = Xtrain[:, fluxes_length:]\n",
    "    remove_indices = gs.best_estimator_[\"separate_pipelines\"].transformers_[1][1][\"var_selection\"].get_support()\n",
    "    genes_train = genes_train[:,remove_indices]\n",
    "    _, _, collapse_indices = np.unique(genes_train, return_index=True, return_inverse=1, axis=1) \n",
    "    genes[rep] = getFeatures(gene_list, remove_indices, collapse_indices)\n",
    "    plsda_scores_g[rep] = gs.best_estimator_[\"separate_pipelines\"].transformers_[1][1][\"plsda\"].PLSDA.x_rotations_\n",
    "    betas.append({\"Beta\": gs.best_estimator_[\"svc\"].coef_[0]})\n",
    "    \n",
    "print(\"Average accuracy: {} with standard deviation: {}\".format(np.mean(accuracies), np.std(accuracies)))\n",
    "print(\"Average MCC: {} with standard deviation: {}\".format(np.mean(MCCs), np.std(MCCs)))"
   ]
  },
  {
   "cell_type": "markdown",
   "id": "mexican-capture",
   "metadata": {},
   "source": [
    "## Result saving"
   ]
  },
  {
   "cell_type": "code",
   "execution_count": 5,
   "id": "automotive-participant",
   "metadata": {},
   "outputs": [],
   "source": [
    "SVM_results = {\n",
    "    \"predicted\": Ypred, \n",
    "    \"true\": Ytrue, \n",
    "    \"predictors\": predictors, \n",
    "    \"pathways\": pathways,\n",
    "    \"genes\": genes,\n",
    "    \"plsda_scores_f\": plsda_scores_f,\n",
    "    \"plsda_scores_g\": plsda_scores_g,\n",
    "    \"mdl\": betas, \n",
    "    \"accuracies\": accuracies, \n",
    "    \"MCCs\": MCCs,\n",
    "    \"testSamples\": testSamples\n",
    "}\n",
    "\n",
    "savemat(results_path + r\"\\Int2SVMl2\" + \"_results\" + permute + \".mat\", \n",
    "        {\"SVM_results\": SVM_results}, oned_as=\"column\")"
   ]
  },
  {
   "cell_type": "code",
   "execution_count": null,
   "id": "affected-handbook",
   "metadata": {},
   "outputs": [],
   "source": []
  }
 ],
 "metadata": {
  "kernelspec": {
   "display_name": "Python 3",
   "language": "python",
   "name": "python3"
  },
  "language_info": {
   "codemirror_mode": {
    "name": "ipython",
    "version": 3
   },
   "file_extension": ".py",
   "mimetype": "text/x-python",
   "name": "python",
   "nbconvert_exporter": "python",
   "pygments_lexer": "ipython3",
   "version": "3.7.4"
  }
 },
 "nbformat": 4,
 "nbformat_minor": 5
}
