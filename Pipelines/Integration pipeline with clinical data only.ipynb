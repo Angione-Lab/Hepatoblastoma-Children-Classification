{
 "cells": [
  {
   "cell_type": "markdown",
   "id": "funny-newspaper",
   "metadata": {},
   "source": [
    "# Integration pipeline of clinical data only"
   ]
  },
  {
   "cell_type": "markdown",
   "id": "vulnerable-employee",
   "metadata": {},
   "source": [
    "## Parameter definition"
   ]
  },
  {
   "cell_type": "code",
   "execution_count": 1,
   "id": "extended-importance",
   "metadata": {},
   "outputs": [],
   "source": [
    "results_path = \"path\"\n",
    "permute = \"_label_permutation\" # \"\", \"_label_permutation\", \"_feature_permutation\";  \"\" if you do not want permutation\n",
    "\n",
    "NUMBER_REPETITIONS = 200\n",
    "NUMBER_TEST_SAMPLES = 5 # per class\n",
    "NUMBER_TRAIN_SAMPLES = 30 # per class per fold execution\n",
    "NUMBER_INTERNAL_FOLDS = 5\n",
    "var_threshold = 0.0 # 0.0 to remove only constant features\n",
    "classifier = \"SVM\" # \"SVM\", \"NN\", \"RF\""
   ]
  },
  {
   "cell_type": "markdown",
   "id": "successful-reverse",
   "metadata": {},
   "source": [
    "## Data loading and minimal preprocessing"
   ]
  },
  {
   "cell_type": "code",
   "execution_count": 2,
   "id": "unique-honduras",
   "metadata": {},
   "outputs": [
    {
     "name": "stdout",
     "output_type": "stream",
     "text": [
      "Age, NaNs:  [3]\n",
      "Gender, NaNs:  [0 0]\n",
      "True\n",
      "(151, 3)\n"
     ]
    }
   ],
   "source": [
    "import random\n",
    "import pandas as pd\n",
    "import numpy as np\n",
    "from sklearn.preprocessing import LabelEncoder, OneHotEncoder, StandardScaler\n",
    "from scipy.io import savemat\n",
    "\n",
    "random_state = 1\n",
    "random.seed(random_state)\n",
    "rng = np.random.RandomState(random_state)\n",
    "\n",
    "# load age and gender of the samples\n",
    "sampleData = pd.read_csv(\"path\\sampleData.csv\")\n",
    "ages = sampleData[\"Age\"].to_numpy().reshape(-1, 1)\n",
    "print(\"Age, NaNs: \", sum(np.isnan(ages)))\n",
    "genders = OneHotEncoder(sparse=False).fit_transform(sampleData[\"Sex\"].to_numpy().reshape(-1, 1))\n",
    "print(\"Gender, NaNs: \", sum(np.isnan(genders)))\n",
    "\n",
    "# load targets\n",
    "targets = sampleData[\"Status\"] == \"Tumor\" # ids are in the same order\n",
    "targets = LabelEncoder().fit_transform(targets)\n",
    "\n",
    "# concatenate all data\n",
    "data = np.concatenate((ages, genders), axis=1)\n",
    "uni_data, _, unique_inverse = np.unique(data, return_index=True, return_inverse=True, axis=0)\n",
    "print((uni_data[unique_inverse] != data).any()) # because of the presence of NaNs, we will take care of them later\n",
    "print(data.shape)     "
   ]
  },
  {
   "cell_type": "markdown",
   "id": "gothic-journalist",
   "metadata": {},
   "source": [
    "## Integration analysis and permutation analysis"
   ]
  },
  {
   "cell_type": "code",
   "execution_count": 3,
   "id": "amber-imperial",
   "metadata": {},
   "outputs": [
    {
     "name": "stdout",
     "output_type": "stream",
     "text": [
      "Run 1 {'svc__C': 59948425.03189421} 0.5179802955665025\n",
      "Run 2 {'svc__C': 12.915496650148826} 0.4596059113300493\n",
      "Run 3 {'svc__C': 1e-10} 0.6187192118226601\n",
      "Run 4 {'svc__C': 10000000000.0} 0.5958128078817733\n",
      "Run 5 {'svc__C': 0.07742636826811278} 0.5261083743842365\n",
      "Run 6 {'svc__C': 359381.36638046405} 0.41847290640394086\n",
      "Run 7 {'svc__C': 12.915496650148826} 0.49556650246305417\n",
      "Run 8 {'svc__C': 359381.36638046405} 0.6169950738916257\n",
      "Run 9 {'svc__C': 59948425.03189421} 0.5598522167487685\n",
      "Run 10 {'svc__C': 59948425.03189421} 0.7598522167487685\n",
      "Run 11 {'svc__C': 10000000000.0} 0.5091133004926107\n",
      "Run 12 {'svc__C': 359381.36638046405} 0.5674876847290641\n",
      "Run 13 {'svc__C': 1e-10} 0.5243842364532019\n",
      "Run 14 {'svc__C': 12.915496650148826} 0.4455665024630542\n",
      "Run 15 {'svc__C': 10000000000.0} 0.6738916256157635\n",
      "Run 16 {'svc__C': 1e-10} 0.5815270935960591\n",
      "Run 17 {'svc__C': 59948425.03189421} 0.6241379310344828\n"
     ]
    },
    {
     "name": "stderr",
     "output_type": "stream",
     "text": [
      "C:\\ProgramData\\Anaconda3\\lib\\site-packages\\sklearn\\metrics\\_classification.py:870: RuntimeWarning: invalid value encountered in double_scalars\n",
      "  mcc = cov_ytyp / np.sqrt(cov_ytyt * cov_ypyp)\n"
     ]
    },
    {
     "name": "stdout",
     "output_type": "stream",
     "text": [
      "Run 18 {'svc__C': 359381.36638046405} 0.5608374384236454\n",
      "Run 19 {'svc__C': 12.915496650148826} 0.49679802955665026\n",
      "Run 20 {'svc__C': 59948425.03189421} 0.6236453201970443\n",
      "Run 21 {'svc__C': 10000000000.0} 0.6315270935960591\n",
      "Run 22 {'svc__C': 12.915496650148826} 0.553448275862069\n"
     ]
    },
    {
     "name": "stderr",
     "output_type": "stream",
     "text": [
      "C:\\ProgramData\\Anaconda3\\lib\\site-packages\\sklearn\\metrics\\_classification.py:870: RuntimeWarning: invalid value encountered in double_scalars\n",
      "  mcc = cov_ytyp / np.sqrt(cov_ytyt * cov_ypyp)\n"
     ]
    },
    {
     "name": "stdout",
     "output_type": "stream",
     "text": [
      "Run 23 {'svc__C': 1e-10} 0.6086206896551725\n",
      "Run 24 {'svc__C': 359381.36638046405} 0.632512315270936\n",
      "Run 25 {'svc__C': 359381.36638046405} 0.7231527093596058\n",
      "Run 26 {'svc__C': 1e-10} 0.5810344827586207\n",
      "Run 27 {'svc__C': 0.07742636826811278} 0.5886699507389161\n"
     ]
    },
    {
     "name": "stderr",
     "output_type": "stream",
     "text": [
      "C:\\ProgramData\\Anaconda3\\lib\\site-packages\\sklearn\\metrics\\_classification.py:870: RuntimeWarning: invalid value encountered in double_scalars\n",
      "  mcc = cov_ytyp / np.sqrt(cov_ytyt * cov_ypyp)\n"
     ]
    },
    {
     "name": "stdout",
     "output_type": "stream",
     "text": [
      "Run 28 {'svc__C': 359381.36638046405} 0.5391625615763547\n"
     ]
    },
    {
     "name": "stderr",
     "output_type": "stream",
     "text": [
      "C:\\ProgramData\\Anaconda3\\lib\\site-packages\\sklearn\\metrics\\_classification.py:870: RuntimeWarning: invalid value encountered in double_scalars\n",
      "  mcc = cov_ytyp / np.sqrt(cov_ytyt * cov_ypyp)\n"
     ]
    },
    {
     "name": "stdout",
     "output_type": "stream",
     "text": [
      "Run 29 {'svc__C': 359381.36638046405} 0.48251231527093597\n",
      "Run 30 {'svc__C': 10000000000.0} 0.44408866995073887\n",
      "Run 31 {'svc__C': 1e-10} 0.5879310344827585\n",
      "Run 32 {'svc__C': 359381.36638046405} 0.5536945812807882\n",
      "Run 33 {'svc__C': 0.07742636826811278} 0.4677339901477833\n",
      "Run 34 {'svc__C': 12.915496650148826} 0.5320197044334976\n",
      "Run 35 {'svc__C': 59948425.03189421} 0.5807881773399015\n"
     ]
    },
    {
     "name": "stderr",
     "output_type": "stream",
     "text": [
      "C:\\ProgramData\\Anaconda3\\lib\\site-packages\\sklearn\\metrics\\_classification.py:870: RuntimeWarning: invalid value encountered in double_scalars\n",
      "  mcc = cov_ytyp / np.sqrt(cov_ytyt * cov_ypyp)\n"
     ]
    },
    {
     "name": "stdout",
     "output_type": "stream",
     "text": [
      "Run 36 {'svc__C': 1e-10} 0.6184729064039409\n",
      "Run 37 {'svc__C': 1e-10} 0.4972906403940886\n",
      "Run 38 {'svc__C': 10000000000.0} 0.6958128078817735\n",
      "Run 39 {'svc__C': 12.915496650148826} 0.48226600985221674\n"
     ]
    },
    {
     "name": "stderr",
     "output_type": "stream",
     "text": [
      "C:\\ProgramData\\Anaconda3\\lib\\site-packages\\sklearn\\metrics\\_classification.py:870: RuntimeWarning: invalid value encountered in double_scalars\n",
      "  mcc = cov_ytyp / np.sqrt(cov_ytyt * cov_ypyp)\n"
     ]
    },
    {
     "name": "stdout",
     "output_type": "stream",
     "text": [
      "Run 40 {'svc__C': 12.915496650148826} 0.6017241379310345\n",
      "Run 41 {'svc__C': 59948425.03189421} 0.5524630541871921\n",
      "Run 42 {'svc__C': 10000000000.0} 0.4972906403940887\n",
      "Run 43 {'svc__C': 1e-10} 0.5179802955665024\n",
      "Run 44 {'svc__C': 59948425.03189421} 0.553448275862069\n",
      "Run 45 {'svc__C': 59948425.03189421} 0.7874384236453202\n",
      "Run 46 {'svc__C': 12.915496650148826} 0.5317733990147783\n",
      "Run 47 {'svc__C': 12.915496650148826} 0.6098522167487685\n",
      "Run 48 {'svc__C': 0.07742636826811278} 0.5748768472906405\n",
      "Run 49 {'svc__C': 0.07742636826811278} 0.5317733990147783\n",
      "Run 50 {'svc__C': 10000000000.0} 0.5472906403940886\n"
     ]
    },
    {
     "name": "stderr",
     "output_type": "stream",
     "text": [
      "C:\\ProgramData\\Anaconda3\\lib\\site-packages\\sklearn\\metrics\\_classification.py:870: RuntimeWarning: invalid value encountered in double_scalars\n",
      "  mcc = cov_ytyp / np.sqrt(cov_ytyt * cov_ypyp)\n"
     ]
    },
    {
     "name": "stdout",
     "output_type": "stream",
     "text": [
      "Run 51 {'svc__C': 10000000000.0} 0.46059113300492605\n",
      "Run 52 {'svc__C': 10000000000.0} 0.5830049261083744\n",
      "Run 53 {'svc__C': 10000000000.0} 0.5613300492610838\n"
     ]
    },
    {
     "name": "stderr",
     "output_type": "stream",
     "text": [
      "C:\\ProgramData\\Anaconda3\\lib\\site-packages\\sklearn\\metrics\\_classification.py:870: RuntimeWarning: invalid value encountered in double_scalars\n",
      "  mcc = cov_ytyp / np.sqrt(cov_ytyt * cov_ypyp)\n"
     ]
    },
    {
     "name": "stdout",
     "output_type": "stream",
     "text": [
      "Run 54 {'svc__C': 10000000000.0} 0.5307881773399015\n"
     ]
    },
    {
     "name": "stderr",
     "output_type": "stream",
     "text": [
      "C:\\ProgramData\\Anaconda3\\lib\\site-packages\\sklearn\\metrics\\_classification.py:870: RuntimeWarning: invalid value encountered in double_scalars\n",
      "  mcc = cov_ytyp / np.sqrt(cov_ytyt * cov_ypyp)\n"
     ]
    },
    {
     "name": "stdout",
     "output_type": "stream",
     "text": [
      "Run 55 {'svc__C': 1e-10} 0.5758620689655172\n",
      "Run 56 {'svc__C': 59948425.03189421} 0.5110837438423645\n"
     ]
    },
    {
     "name": "stderr",
     "output_type": "stream",
     "text": [
      "C:\\ProgramData\\Anaconda3\\lib\\site-packages\\sklearn\\metrics\\_classification.py:870: RuntimeWarning: invalid value encountered in double_scalars\n",
      "  mcc = cov_ytyp / np.sqrt(cov_ytyt * cov_ypyp)\n"
     ]
    },
    {
     "name": "stdout",
     "output_type": "stream",
     "text": [
      "Run 57 {'svc__C': 0.07742636826811278} 0.48842364532019705\n",
      "Run 58 {'svc__C': 359381.36638046405} 0.5406403940886699\n",
      "Run 59 {'svc__C': 12.915496650148826} 0.5657635467980295\n",
      "Run 60 {'svc__C': 12.915496650148826} 0.404679802955665\n",
      "Run 61 {'svc__C': 12.915496650148826} 0.4817733990147784\n",
      "Run 62 {'svc__C': 359381.36638046405} 0.566256157635468\n",
      "Run 63 {'svc__C': 1e-10} 0.6876847290640395\n"
     ]
    },
    {
     "name": "stderr",
     "output_type": "stream",
     "text": [
      "C:\\ProgramData\\Anaconda3\\lib\\site-packages\\sklearn\\metrics\\_classification.py:870: RuntimeWarning: invalid value encountered in double_scalars\n",
      "  mcc = cov_ytyp / np.sqrt(cov_ytyt * cov_ypyp)\n"
     ]
    },
    {
     "name": "stdout",
     "output_type": "stream",
     "text": [
      "Run 64 {'svc__C': 10000000000.0} 0.43842364532019706\n",
      "Run 65 {'svc__C': 1e-10} 0.5596059113300492\n",
      "Run 66 {'svc__C': 59948425.03189421} 0.5386699507389162\n",
      "Run 67 {'svc__C': 10000000000.0} 0.4620689655172413\n"
     ]
    },
    {
     "name": "stderr",
     "output_type": "stream",
     "text": [
      "C:\\ProgramData\\Anaconda3\\lib\\site-packages\\sklearn\\metrics\\_classification.py:870: RuntimeWarning: invalid value encountered in double_scalars\n",
      "  mcc = cov_ytyp / np.sqrt(cov_ytyt * cov_ypyp)\n"
     ]
    },
    {
     "name": "stdout",
     "output_type": "stream",
     "text": [
      "Run 68 {'svc__C': 359381.36638046405} 0.4834975369458128\n",
      "Run 69 {'svc__C': 10000000000.0} 0.5667487684729065\n",
      "Run 70 {'svc__C': 12.915496650148826} 0.6798029556650247\n",
      "Run 71 {'svc__C': 0.07742636826811278} 0.6810344827586208\n",
      "Run 72 {'svc__C': 359381.36638046405} 0.5241379310344827\n",
      "Run 73 {'svc__C': 12.915496650148826} 0.6482758620689655\n",
      "Run 74 {'svc__C': 59948425.03189421} 0.454679802955665\n"
     ]
    },
    {
     "name": "stderr",
     "output_type": "stream",
     "text": [
      "C:\\ProgramData\\Anaconda3\\lib\\site-packages\\sklearn\\metrics\\_classification.py:870: RuntimeWarning: invalid value encountered in double_scalars\n",
      "  mcc = cov_ytyp / np.sqrt(cov_ytyt * cov_ypyp)\n"
     ]
    },
    {
     "name": "stdout",
     "output_type": "stream",
     "text": [
      "Run 75 {'svc__C': 10000000000.0} 0.552463054187192\n",
      "Run 76 {'svc__C': 0.07742636826811278} 0.5958128078817734\n",
      "Run 77 {'svc__C': 359381.36638046405} 0.4820197044334975\n"
     ]
    },
    {
     "name": "stderr",
     "output_type": "stream",
     "text": [
      "C:\\ProgramData\\Anaconda3\\lib\\site-packages\\sklearn\\metrics\\_classification.py:870: RuntimeWarning: invalid value encountered in double_scalars\n",
      "  mcc = cov_ytyp / np.sqrt(cov_ytyt * cov_ypyp)\n"
     ]
    },
    {
     "name": "stdout",
     "output_type": "stream",
     "text": [
      "Run 78 {'svc__C': 0.07742636826811278} 0.46206896551724147\n",
      "Run 79 {'svc__C': 10000000000.0} 0.5049261083743841\n"
     ]
    },
    {
     "name": "stderr",
     "output_type": "stream",
     "text": [
      "C:\\ProgramData\\Anaconda3\\lib\\site-packages\\sklearn\\metrics\\_classification.py:870: RuntimeWarning: invalid value encountered in double_scalars\n",
      "  mcc = cov_ytyp / np.sqrt(cov_ytyt * cov_ypyp)\n"
     ]
    },
    {
     "name": "stdout",
     "output_type": "stream",
     "text": [
      "Run 80 {'svc__C': 10000000000.0} 0.5940886699507388\n"
     ]
    },
    {
     "name": "stderr",
     "output_type": "stream",
     "text": [
      "C:\\ProgramData\\Anaconda3\\lib\\site-packages\\sklearn\\metrics\\_classification.py:870: RuntimeWarning: invalid value encountered in double_scalars\n",
      "  mcc = cov_ytyp / np.sqrt(cov_ytyt * cov_ypyp)\n"
     ]
    },
    {
     "name": "stdout",
     "output_type": "stream",
     "text": [
      "Run 81 {'svc__C': 359381.36638046405} 0.5891625615763546\n",
      "Run 82 {'svc__C': 10000000000.0} 0.4169950738916256\n"
     ]
    },
    {
     "name": "stderr",
     "output_type": "stream",
     "text": [
      "C:\\ProgramData\\Anaconda3\\lib\\site-packages\\sklearn\\metrics\\_classification.py:870: RuntimeWarning: invalid value encountered in double_scalars\n",
      "  mcc = cov_ytyp / np.sqrt(cov_ytyt * cov_ypyp)\n"
     ]
    },
    {
     "name": "stdout",
     "output_type": "stream",
     "text": [
      "Run 83 {'svc__C': 59948425.03189421} 0.5524630541871921\n",
      "Run 84 {'svc__C': 59948425.03189421} 0.601231527093596\n",
      "Run 85 {'svc__C': 10000000000.0} 0.6379310344827586\n",
      "Run 86 {'svc__C': 359381.36638046405} 0.4889162561576355\n",
      "Run 87 {'svc__C': 10000000000.0} 0.7519704433497537\n",
      "Run 88 {'svc__C': 10000000000.0} 0.5256157635467981\n",
      "Run 89 {'svc__C': 12.915496650148826} 0.5817733990147783\n",
      "Run 90 {'svc__C': 0.07742636826811278} 0.45443349753694584\n",
      "Run 91 {'svc__C': 59948425.03189421} 0.5539408866995074\n",
      "Run 92 {'svc__C': 12.915496650148826} 0.5167487684729064\n",
      "Run 93 {'svc__C': 1e-10} 0.8157635467980295\n",
      "Run 94 {'svc__C': 10000000000.0} 0.6036945812807882\n",
      "Run 95 {'svc__C': 1e-10} 0.5665024630541872\n"
     ]
    },
    {
     "name": "stderr",
     "output_type": "stream",
     "text": [
      "C:\\ProgramData\\Anaconda3\\lib\\site-packages\\sklearn\\metrics\\_classification.py:870: RuntimeWarning: invalid value encountered in double_scalars\n",
      "  mcc = cov_ytyp / np.sqrt(cov_ytyt * cov_ypyp)\n"
     ]
    },
    {
     "name": "stdout",
     "output_type": "stream",
     "text": [
      "Run 96 {'svc__C': 59948425.03189421} 0.4916256157635468\n",
      "Run 97 {'svc__C': 0.07742636826811278} 0.5613300492610838\n"
     ]
    },
    {
     "name": "stderr",
     "output_type": "stream",
     "text": [
      "C:\\ProgramData\\Anaconda3\\lib\\site-packages\\sklearn\\metrics\\_classification.py:870: RuntimeWarning: invalid value encountered in double_scalars\n",
      "  mcc = cov_ytyp / np.sqrt(cov_ytyt * cov_ypyp)\n"
     ]
    },
    {
     "name": "stdout",
     "output_type": "stream",
     "text": [
      "Run 98 {'svc__C': 10000000000.0} 0.4098522167487684\n"
     ]
    },
    {
     "name": "stderr",
     "output_type": "stream",
     "text": [
      "C:\\ProgramData\\Anaconda3\\lib\\site-packages\\sklearn\\metrics\\_classification.py:870: RuntimeWarning: invalid value encountered in double_scalars\n",
      "  mcc = cov_ytyp / np.sqrt(cov_ytyt * cov_ypyp)\n"
     ]
    },
    {
     "name": "stdout",
     "output_type": "stream",
     "text": [
      "Run 99 {'svc__C': 10000000000.0} 0.5830049261083744\n"
     ]
    },
    {
     "name": "stderr",
     "output_type": "stream",
     "text": [
      "C:\\ProgramData\\Anaconda3\\lib\\site-packages\\sklearn\\metrics\\_classification.py:870: RuntimeWarning: invalid value encountered in double_scalars\n",
      "  mcc = cov_ytyp / np.sqrt(cov_ytyt * cov_ypyp)\n"
     ]
    },
    {
     "name": "stdout",
     "output_type": "stream",
     "text": [
      "Run 100 {'svc__C': 59948425.03189421} 0.6519704433497537\n",
      "Run 101 {'svc__C': 0.07742636826811278} 0.6024630541871921\n",
      "Run 102 {'svc__C': 0.07742636826811278} 0.5667487684729063\n",
      "Run 103 {'svc__C': 359381.36638046405} 0.454679802955665\n",
      "Run 104 {'svc__C': 10000000000.0} 0.5041871921182266\n"
     ]
    },
    {
     "name": "stderr",
     "output_type": "stream",
     "text": [
      "C:\\ProgramData\\Anaconda3\\lib\\site-packages\\sklearn\\metrics\\_classification.py:870: RuntimeWarning: invalid value encountered in double_scalars\n",
      "  mcc = cov_ytyp / np.sqrt(cov_ytyt * cov_ypyp)\n"
     ]
    },
    {
     "name": "stdout",
     "output_type": "stream",
     "text": [
      "Run 105 {'svc__C': 0.07742636826811278} 0.6152709359605911\n",
      "Run 106 {'svc__C': 59948425.03189421} 0.5913793103448276\n"
     ]
    },
    {
     "name": "stderr",
     "output_type": "stream",
     "text": [
      "C:\\ProgramData\\Anaconda3\\lib\\site-packages\\sklearn\\metrics\\_classification.py:870: RuntimeWarning: invalid value encountered in double_scalars\n",
      "  mcc = cov_ytyp / np.sqrt(cov_ytyt * cov_ypyp)\n"
     ]
    },
    {
     "name": "stdout",
     "output_type": "stream",
     "text": [
      "Run 107 {'svc__C': 10000000000.0} 0.5736453201970444\n"
     ]
    },
    {
     "name": "stderr",
     "output_type": "stream",
     "text": [
      "C:\\ProgramData\\Anaconda3\\lib\\site-packages\\sklearn\\metrics\\_classification.py:870: RuntimeWarning: invalid value encountered in double_scalars\n",
      "  mcc = cov_ytyp / np.sqrt(cov_ytyt * cov_ypyp)\n"
     ]
    },
    {
     "name": "stdout",
     "output_type": "stream",
     "text": [
      "Run 108 {'svc__C': 0.07742636826811278} 0.5236453201970444\n"
     ]
    },
    {
     "name": "stderr",
     "output_type": "stream",
     "text": [
      "C:\\ProgramData\\Anaconda3\\lib\\site-packages\\sklearn\\metrics\\_classification.py:870: RuntimeWarning: invalid value encountered in double_scalars\n",
      "  mcc = cov_ytyp / np.sqrt(cov_ytyt * cov_ypyp)\n"
     ]
    },
    {
     "name": "stdout",
     "output_type": "stream",
     "text": [
      "Run 109 {'svc__C': 0.07742636826811278} 0.42512315270935963\n",
      "Run 110 {'svc__C': 12.915496650148826} 0.539655172413793\n"
     ]
    },
    {
     "name": "stderr",
     "output_type": "stream",
     "text": [
      "C:\\ProgramData\\Anaconda3\\lib\\site-packages\\sklearn\\metrics\\_classification.py:870: RuntimeWarning: invalid value encountered in double_scalars\n",
      "  mcc = cov_ytyp / np.sqrt(cov_ytyt * cov_ypyp)\n"
     ]
    },
    {
     "name": "stdout",
     "output_type": "stream",
     "text": [
      "Run 111 {'svc__C': 359381.36638046405} 0.4677339901477833\n",
      "Run 112 {'svc__C': 10000000000.0} 0.5197044334975369\n",
      "Run 113 {'svc__C': 12.915496650148826} 0.5800492610837439\n",
      "Run 114 {'svc__C': 1e-10} 0.5455665024630542\n",
      "Run 115 {'svc__C': 359381.36638046405} 0.3906403940886699\n"
     ]
    },
    {
     "name": "stderr",
     "output_type": "stream",
     "text": [
      "C:\\ProgramData\\Anaconda3\\lib\\site-packages\\sklearn\\metrics\\_classification.py:870: RuntimeWarning: invalid value encountered in double_scalars\n",
      "  mcc = cov_ytyp / np.sqrt(cov_ytyt * cov_ypyp)\n"
     ]
    },
    {
     "name": "stdout",
     "output_type": "stream",
     "text": [
      "Run 116 {'svc__C': 0.07742636826811278} 0.6160098522167488\n",
      "Run 117 {'svc__C': 10000000000.0} 0.4763546798029557\n",
      "Run 118 {'svc__C': 1e-10} 0.5891625615763546\n",
      "Run 119 {'svc__C': 10000000000.0} 0.6231527093596059\n",
      "Run 120 {'svc__C': 12.915496650148826} 0.44778325123152707\n",
      "Run 121 {'svc__C': 10000000000.0} 0.7371921182266009\n",
      "Run 122 {'svc__C': 59948425.03189421} 0.4413793103448276\n",
      "Run 123 {'svc__C': 0.07742636826811278} 0.44064039408866995\n",
      "Run 124 {'svc__C': 10000000000.0} 0.6248768472906403\n",
      "Run 125 {'svc__C': 1e-10} 0.6596059113300493\n",
      "Run 126 {'svc__C': 59948425.03189421} 0.48940886699507385\n"
     ]
    },
    {
     "name": "stderr",
     "output_type": "stream",
     "text": [
      "C:\\ProgramData\\Anaconda3\\lib\\site-packages\\sklearn\\metrics\\_classification.py:870: RuntimeWarning: invalid value encountered in double_scalars\n",
      "  mcc = cov_ytyp / np.sqrt(cov_ytyt * cov_ypyp)\n"
     ]
    },
    {
     "name": "stdout",
     "output_type": "stream",
     "text": [
      "Run 127 {'svc__C': 59948425.03189421} 0.551231527093596\n"
     ]
    },
    {
     "name": "stderr",
     "output_type": "stream",
     "text": [
      "C:\\ProgramData\\Anaconda3\\lib\\site-packages\\sklearn\\metrics\\_classification.py:870: RuntimeWarning: invalid value encountered in double_scalars\n",
      "  mcc = cov_ytyp / np.sqrt(cov_ytyt * cov_ypyp)\n"
     ]
    },
    {
     "name": "stdout",
     "output_type": "stream",
     "text": [
      "Run 128 {'svc__C': 1e-10} 0.48251231527093597\n",
      "Run 129 {'svc__C': 10000000000.0} 0.49827586206896557\n",
      "Run 130 {'svc__C': 10000000000.0} 0.4960591133004926\n",
      "Run 131 {'svc__C': 10000000000.0} 0.5940886699507388\n"
     ]
    },
    {
     "name": "stderr",
     "output_type": "stream",
     "text": [
      "C:\\ProgramData\\Anaconda3\\lib\\site-packages\\sklearn\\metrics\\_classification.py:870: RuntimeWarning: invalid value encountered in double_scalars\n",
      "  mcc = cov_ytyp / np.sqrt(cov_ytyt * cov_ypyp)\n"
     ]
    },
    {
     "name": "stdout",
     "output_type": "stream",
     "text": [
      "Run 132 {'svc__C': 359381.36638046405} 0.42586206896551726\n",
      "Run 133 {'svc__C': 1e-10} 0.48275862068965514\n",
      "Run 134 {'svc__C': 359381.36638046405} 0.4958128078817734\n"
     ]
    },
    {
     "name": "stderr",
     "output_type": "stream",
     "text": [
      "C:\\ProgramData\\Anaconda3\\lib\\site-packages\\sklearn\\metrics\\_classification.py:870: RuntimeWarning: invalid value encountered in double_scalars\n",
      "  mcc = cov_ytyp / np.sqrt(cov_ytyt * cov_ypyp)\n"
     ]
    },
    {
     "name": "stdout",
     "output_type": "stream",
     "text": [
      "Run 135 {'svc__C': 0.07742636826811278} 0.4677339901477833\n",
      "Run 136 {'svc__C': 0.07742636826811278} 0.5889162561576354\n",
      "Run 137 {'svc__C': 359381.36638046405} 0.33374384236453203\n",
      "Run 138 {'svc__C': 59948425.03189421} 0.49408866995073886\n"
     ]
    },
    {
     "name": "stderr",
     "output_type": "stream",
     "text": [
      "C:\\ProgramData\\Anaconda3\\lib\\site-packages\\sklearn\\metrics\\_classification.py:870: RuntimeWarning: invalid value encountered in double_scalars\n",
      "  mcc = cov_ytyp / np.sqrt(cov_ytyt * cov_ypyp)\n"
     ]
    },
    {
     "name": "stdout",
     "output_type": "stream",
     "text": [
      "Run 139 {'svc__C': 1e-10} 0.7088669950738916\n"
     ]
    },
    {
     "name": "stderr",
     "output_type": "stream",
     "text": [
      "C:\\ProgramData\\Anaconda3\\lib\\site-packages\\sklearn\\metrics\\_classification.py:870: RuntimeWarning: invalid value encountered in double_scalars\n",
      "  mcc = cov_ytyp / np.sqrt(cov_ytyt * cov_ypyp)\n"
     ]
    },
    {
     "name": "stdout",
     "output_type": "stream",
     "text": [
      "Run 140 {'svc__C': 10000000000.0} 0.4332512315270936\n"
     ]
    },
    {
     "name": "stderr",
     "output_type": "stream",
     "text": [
      "C:\\ProgramData\\Anaconda3\\lib\\site-packages\\sklearn\\metrics\\_classification.py:870: RuntimeWarning: invalid value encountered in double_scalars\n",
      "  mcc = cov_ytyp / np.sqrt(cov_ytyt * cov_ypyp)\n"
     ]
    },
    {
     "name": "stdout",
     "output_type": "stream",
     "text": [
      "Run 141 {'svc__C': 59948425.03189421} 0.4682266009852218\n",
      "Run 142 {'svc__C': 12.915496650148826} 0.475615763546798\n",
      "Run 143 {'svc__C': 1e-10} 0.524630541871921\n"
     ]
    },
    {
     "name": "stderr",
     "output_type": "stream",
     "text": [
      "C:\\ProgramData\\Anaconda3\\lib\\site-packages\\sklearn\\metrics\\_classification.py:870: RuntimeWarning: invalid value encountered in double_scalars\n",
      "  mcc = cov_ytyp / np.sqrt(cov_ytyt * cov_ypyp)\n"
     ]
    },
    {
     "name": "stdout",
     "output_type": "stream",
     "text": [
      "Run 144 {'svc__C': 1e-10} 0.6519704433497537\n",
      "Run 145 {'svc__C': 359381.36638046405} 0.6093596059113301\n",
      "Run 146 {'svc__C': 59948425.03189421} 0.5970443349753695\n"
     ]
    },
    {
     "name": "stderr",
     "output_type": "stream",
     "text": [
      "C:\\ProgramData\\Anaconda3\\lib\\site-packages\\sklearn\\metrics\\_classification.py:870: RuntimeWarning: invalid value encountered in double_scalars\n",
      "  mcc = cov_ytyp / np.sqrt(cov_ytyt * cov_ypyp)\n"
     ]
    },
    {
     "name": "stdout",
     "output_type": "stream",
     "text": [
      "Run 147 {'svc__C': 10000000000.0} 0.5258620689655171\n"
     ]
    },
    {
     "name": "stderr",
     "output_type": "stream",
     "text": [
      "C:\\ProgramData\\Anaconda3\\lib\\site-packages\\sklearn\\metrics\\_classification.py:870: RuntimeWarning: invalid value encountered in double_scalars\n",
      "  mcc = cov_ytyp / np.sqrt(cov_ytyt * cov_ypyp)\n"
     ]
    },
    {
     "name": "stdout",
     "output_type": "stream",
     "text": [
      "Run 148 {'svc__C': 0.07742636826811278} 0.6480295566502463\n"
     ]
    },
    {
     "name": "stderr",
     "output_type": "stream",
     "text": [
      "C:\\ProgramData\\Anaconda3\\lib\\site-packages\\sklearn\\metrics\\_classification.py:870: RuntimeWarning: invalid value encountered in double_scalars\n",
      "  mcc = cov_ytyp / np.sqrt(cov_ytyt * cov_ypyp)\n"
     ]
    },
    {
     "name": "stdout",
     "output_type": "stream",
     "text": [
      "Run 149 {'svc__C': 59948425.03189421} 0.5894088669950739\n"
     ]
    },
    {
     "name": "stderr",
     "output_type": "stream",
     "text": [
      "C:\\ProgramData\\Anaconda3\\lib\\site-packages\\sklearn\\metrics\\_classification.py:870: RuntimeWarning: invalid value encountered in double_scalars\n",
      "  mcc = cov_ytyp / np.sqrt(cov_ytyt * cov_ypyp)\n"
     ]
    },
    {
     "name": "stdout",
     "output_type": "stream",
     "text": [
      "Run 150 {'svc__C': 1e-10} 0.4527093596059113\n",
      "Run 151 {'svc__C': 1e-10} 0.5046798029556651\n",
      "Run 152 {'svc__C': 10000000000.0} 0.4958128078817734\n",
      "Run 153 {'svc__C': 12.915496650148826} 0.5891625615763546\n",
      "Run 154 {'svc__C': 359381.36638046405} 0.594088669950739\n"
     ]
    },
    {
     "name": "stderr",
     "output_type": "stream",
     "text": [
      "C:\\ProgramData\\Anaconda3\\lib\\site-packages\\sklearn\\metrics\\_classification.py:870: RuntimeWarning: invalid value encountered in double_scalars\n",
      "  mcc = cov_ytyp / np.sqrt(cov_ytyt * cov_ypyp)\n"
     ]
    },
    {
     "name": "stdout",
     "output_type": "stream",
     "text": [
      "Run 155 {'svc__C': 10000000000.0} 0.5246305418719212\n",
      "Run 156 {'svc__C': 0.07742636826811278} 0.5869458128078817\n",
      "Run 157 {'svc__C': 10000000000.0} 0.5536945812807882\n"
     ]
    },
    {
     "name": "stderr",
     "output_type": "stream",
     "text": [
      "C:\\ProgramData\\Anaconda3\\lib\\site-packages\\sklearn\\metrics\\_classification.py:870: RuntimeWarning: invalid value encountered in double_scalars\n",
      "  mcc = cov_ytyp / np.sqrt(cov_ytyt * cov_ypyp)\n"
     ]
    },
    {
     "name": "stdout",
     "output_type": "stream",
     "text": [
      "Run 158 {'svc__C': 12.915496650148826} 0.5615763546798029\n"
     ]
    },
    {
     "name": "stderr",
     "output_type": "stream",
     "text": [
      "C:\\ProgramData\\Anaconda3\\lib\\site-packages\\sklearn\\metrics\\_classification.py:870: RuntimeWarning: invalid value encountered in double_scalars\n",
      "  mcc = cov_ytyp / np.sqrt(cov_ytyt * cov_ypyp)\n"
     ]
    },
    {
     "name": "stdout",
     "output_type": "stream",
     "text": [
      "Run 159 {'svc__C': 1e-10} 0.5596059113300492\n",
      "Run 160 {'svc__C': 59948425.03189421} 0.5024630541871921\n",
      "Run 161 {'svc__C': 10000000000.0} 0.6753694581280788\n"
     ]
    },
    {
     "name": "stderr",
     "output_type": "stream",
     "text": [
      "C:\\ProgramData\\Anaconda3\\lib\\site-packages\\joblib\\externals\\loky\\process_executor.py:691: UserWarning: A worker stopped while some jobs were given to the executor. This can be caused by a too short worker timeout or by a memory leak.\n",
      "  \"timeout or by a memory leak.\", UserWarning\n"
     ]
    },
    {
     "name": "stdout",
     "output_type": "stream",
     "text": [
      "Run 162 {'svc__C': 12.915496650148826} 0.6517241379310345\n"
     ]
    },
    {
     "name": "stderr",
     "output_type": "stream",
     "text": [
      "C:\\ProgramData\\Anaconda3\\lib\\site-packages\\sklearn\\metrics\\_classification.py:870: RuntimeWarning: invalid value encountered in double_scalars\n",
      "  mcc = cov_ytyp / np.sqrt(cov_ytyt * cov_ypyp)\n"
     ]
    },
    {
     "name": "stdout",
     "output_type": "stream",
     "text": [
      "Run 163 {'svc__C': 359381.36638046405} 0.4403940886699507\n",
      "Run 164 {'svc__C': 12.915496650148826} 0.5182266009852217\n",
      "Run 165 {'svc__C': 59948425.03189421} 0.503448275862069\n",
      "Run 166 {'svc__C': 10000000000.0} 0.5667487684729065\n",
      "Run 167 {'svc__C': 359381.36638046405} 0.4408866995073891\n",
      "Run 168 {'svc__C': 0.07742636826811278} 0.45369458128078816\n",
      "Run 169 {'svc__C': 12.915496650148826} 0.43275862068965515\n",
      "Run 170 {'svc__C': 1e-10} 0.6105911330049261\n",
      "Run 171 {'svc__C': 0.07742636826811278} 0.617487684729064\n",
      "Run 172 {'svc__C': 12.915496650148826} 0.5165024630541872\n",
      "Run 173 {'svc__C': 59948425.03189421} 0.48251231527093597\n",
      "Run 174 {'svc__C': 10000000000.0} 0.505911330049261\n",
      "Run 175 {'svc__C': 0.07742636826811278} 0.6657635467980295\n",
      "Run 176 {'svc__C': 1e-10} 0.6753694581280788\n",
      "Run 177 {'svc__C': 10000000000.0} 0.602216748768473\n",
      "Run 178 {'svc__C': 0.07742636826811278} 0.5113300492610837\n",
      "Run 179 {'svc__C': 12.915496650148826} 0.5036945812807883\n"
     ]
    },
    {
     "name": "stderr",
     "output_type": "stream",
     "text": [
      "C:\\ProgramData\\Anaconda3\\lib\\site-packages\\sklearn\\metrics\\_classification.py:870: RuntimeWarning: invalid value encountered in double_scalars\n",
      "  mcc = cov_ytyp / np.sqrt(cov_ytyt * cov_ypyp)\n"
     ]
    },
    {
     "name": "stdout",
     "output_type": "stream",
     "text": [
      "Run 180 {'svc__C': 1e-10} 0.6169950738916257\n"
     ]
    },
    {
     "name": "stderr",
     "output_type": "stream",
     "text": [
      "C:\\ProgramData\\Anaconda3\\lib\\site-packages\\sklearn\\metrics\\_classification.py:870: RuntimeWarning: invalid value encountered in double_scalars\n",
      "  mcc = cov_ytyp / np.sqrt(cov_ytyt * cov_ypyp)\n"
     ]
    },
    {
     "name": "stdout",
     "output_type": "stream",
     "text": [
      "Run 181 {'svc__C': 59948425.03189421} 0.6401477832512315\n",
      "Run 182 {'svc__C': 12.915496650148826} 0.5660098522167487\n",
      "Run 183 {'svc__C': 59948425.03189421} 0.6662561576354679\n",
      "Run 184 {'svc__C': 10000000000.0} 0.5972906403940886\n",
      "Run 185 {'svc__C': 59948425.03189421} 0.5118226600985223\n",
      "Run 186 {'svc__C': 59948425.03189421} 0.5320197044334976\n"
     ]
    },
    {
     "name": "stderr",
     "output_type": "stream",
     "text": [
      "C:\\ProgramData\\Anaconda3\\lib\\site-packages\\sklearn\\metrics\\_classification.py:870: RuntimeWarning: invalid value encountered in double_scalars\n",
      "  mcc = cov_ytyp / np.sqrt(cov_ytyt * cov_ypyp)\n"
     ]
    },
    {
     "name": "stdout",
     "output_type": "stream",
     "text": [
      "Run 187 {'svc__C': 12.915496650148826} 0.5886699507389161\n",
      "Run 188 {'svc__C': 59948425.03189421} 0.6330049261083743\n",
      "Run 189 {'svc__C': 1e-10} 0.49556650246305417\n",
      "Run 190 {'svc__C': 12.915496650148826} 0.5679802955665025\n",
      "Run 191 {'svc__C': 0.07742636826811278} 0.4891625615763546\n"
     ]
    },
    {
     "name": "stderr",
     "output_type": "stream",
     "text": [
      "C:\\ProgramData\\Anaconda3\\lib\\site-packages\\sklearn\\metrics\\_classification.py:870: RuntimeWarning: invalid value encountered in double_scalars\n",
      "  mcc = cov_ytyp / np.sqrt(cov_ytyt * cov_ypyp)\n"
     ]
    },
    {
     "name": "stdout",
     "output_type": "stream",
     "text": [
      "Run 192 {'svc__C': 359381.36638046405} 0.5948275862068966\n",
      "Run 193 {'svc__C': 12.915496650148826} 0.5246305418719212\n",
      "Run 194 {'svc__C': 359381.36638046405} 0.496551724137931\n",
      "Run 195 {'svc__C': 12.915496650148826} 0.5467980295566501\n",
      "Run 196 {'svc__C': 59948425.03189421} 0.6238916256157635\n",
      "Run 197 {'svc__C': 59948425.03189421} 0.4896551724137931\n",
      "Run 198 {'svc__C': 59948425.03189421} 0.6298029556650246\n",
      "Run 199 {'svc__C': 359381.36638046405} 0.5403940886699508\n",
      "Run 200 {'svc__C': 12.915496650148826} 0.404679802955665\n",
      "Average accuracy: 0.48200000000000004 with standard deviation: 0.21535087647836496\n",
      "Average MCC: -0.01598057192093086 with standard deviation: 0.29265075809356844\n"
     ]
    },
    {
     "name": "stderr",
     "output_type": "stream",
     "text": [
      "C:\\ProgramData\\Anaconda3\\lib\\site-packages\\sklearn\\metrics\\_classification.py:870: RuntimeWarning: invalid value encountered in double_scalars\n",
      "  mcc = cov_ytyp / np.sqrt(cov_ytyt * cov_ypyp)\n"
     ]
    }
   ],
   "source": [
    "from sklearn.utils import shuffle\n",
    "from imblearn.pipeline import Pipeline\n",
    "from imblearn.over_sampling import RandomOverSampler\n",
    "from imblearn.under_sampling import RandomUnderSampler\n",
    "from sklearn.compose import ColumnTransformer\n",
    "from sklearn.feature_selection import VarianceThreshold\n",
    "from sklearn.model_selection import StratifiedKFold, GridSearchCV\n",
    "from sklearn.impute import KNNImputer\n",
    "from sklearn.svm import SVC\n",
    "from sklearn.neural_network import MLPClassifier\n",
    "from sklearn.ensemble import RandomForestClassifier\n",
    "from sklearn.metrics import accuracy_score, matthews_corrcoef\n",
    "\n",
    "tumor_samples = data[targets==1,:]\n",
    "healthy_samples = data[targets==0,:]\n",
    "cv = StratifiedKFold(n_splits=NUMBER_INTERNAL_FOLDS, shuffle=True, random_state=random_state)\n",
    "\n",
    "if classifier == \"SVM\":\n",
    "    mdl = SVC(kernel=\"linear\", random_state=rng)\n",
    "    params = {\n",
    "        \"model__C\": np.logspace(-10, 10, num=10)\n",
    "    }\n",
    "elif classifier == \"NN\":\n",
    "    mdl = MLPClassifier(solver=\"lbfgs\", random_state=rng)\n",
    "    params = {\n",
    "        \"model__alpha\": 10.0 ** -np.arange(1, 7)\n",
    "    }\n",
    "else:\n",
    "    mdl = RandomForestClassifier(random_state=rng)\n",
    "    params = {\n",
    "        \"model__n_estimators\": [10, 100, 500, 1000],\n",
    "        \"model__max_depth\": [3, 5, 8, None]\n",
    "    }\n",
    "\n",
    "pipe = Pipeline(steps=[\n",
    "    (\"oversampling\", RandomOverSampler(sampling_strategy=\"minority\", random_state=random_state)), \n",
    "    (\"undersampling\", RandomUnderSampler(sampling_strategy={0:NUMBER_TRAIN_SAMPLES, 1:NUMBER_TRAIN_SAMPLES}, \n",
    "                                         random_state=random_state)),\n",
    "    (\"separate_pipelines\", ColumnTransformer([\n",
    "        (\"ages\", KNNImputer(n_neighbors=5, weights=\"uniform\", metric=\"nan_euclidean\"), [0]), # ages\n",
    "        (\"genders\", \"passthrough\", [1, 2])\n",
    "    ])),\n",
    "    (\"standardise\", StandardScaler()), \n",
    "    ('model',  mdl)\n",
    "])\n",
    "\n",
    "\n",
    "params = {\n",
    "    \"svc__C\": lambdas\n",
    "}\n",
    "\n",
    "accuracies = np.zeros(NUMBER_REPETITIONS)\n",
    "MCCs = np.zeros(NUMBER_REPETITIONS)\n",
    "Ytrue = np.zeros((NUMBER_REPETITIONS, NUMBER_TEST_SAMPLES * 2))\n",
    "Ypred = np.zeros((NUMBER_REPETITIONS, NUMBER_TEST_SAMPLES * 2))\n",
    "testSamples = np.zeros((NUMBER_REPETITIONS, NUMBER_TEST_SAMPLES * 2))\n",
    "betas = list()    \n",
    "\n",
    "for rep in range(NUMBER_REPETITIONS):\n",
    "    test_idx1 = random.sample(range(len(healthy_samples)), NUMBER_TEST_SAMPLES)\n",
    "    test_idx2 = random.sample(range(len(tumor_samples)), NUMBER_TEST_SAMPLES)\n",
    "    testSamples[rep] = np.concatenate((test_idx1, test_idx2)) + 1 # for use in MATLAB\n",
    "       \n",
    "    Xtest = np.concatenate((healthy_samples[test_idx1,:], tumor_samples[test_idx2,:]))\n",
    "    ytest = [i for i in range(2) for _ in range(NUMBER_TEST_SAMPLES)]\n",
    "    \n",
    "    train_healthy = np.delete(healthy_samples, test_idx1, axis=0)\n",
    "    train_tumor = np.delete(tumor_samples, test_idx2, axis=0)\n",
    "    Xtrain = np.concatenate((train_healthy, train_tumor))\n",
    "    Xtrain, ytrain = shuffle(Xtrain, np.concatenate(([0] * len(train_healthy), [1] * len(train_tumor))), \n",
    "                             random_state=random_state)\n",
    "    \n",
    "    if permute == \"_label_permutation\":\n",
    "        ys = np.concatenate((ytrain, ytest))\n",
    "        random.shuffle(ys)\n",
    "        ytrain, ytest = ys[:len(ytrain)], ys[-len(ytest):]\n",
    "    elif permute == \"_feature_permutation\":\n",
    "        raise NotImplementedError\n",
    "    else:\n",
    "        pass\n",
    "    \n",
    "    gs = GridSearchCV(pipe, param_grid=params, cv=cv, refit=True, n_jobs=-1) \n",
    "    gs.fit(Xtrain, ytrain)  \n",
    "    print(\"Run\", rep + 1, gs.best_params_, gs.best_score_) \n",
    "    ypred = gs.predict(Xtest)\n",
    "    accuracies[rep] = accuracy_score(ytest, ypred)\n",
    "    MCCs[rep] = matthews_corrcoef(ytest, ypred)\n",
    "    Ytrue[rep] = ytest\n",
    "    Ypred[rep] = ypred\n",
    "\n",
    "    if classifier == \"SVM\":                              \n",
    "        betas.append({\"Beta\": gs.best_estimator_[\"model\"].coef_[0]})\n",
    "    elif classifier == \"NN\": \n",
    "        betas.append({\"Beta\": np.squeeze(gs.best_estimator_[\"model\"].coefs_[0].dot(gs.best_estimator_[\"model\"].coefs_[1]))})\n",
    "    else:\n",
    "        betas.append({\"Beta\": np.squeeze(np.zeros((Xtrain.shape[0], 1)))}) # too computational expensive to calculate feature\n",
    "                                                                           # importance\n",
    "    \n",
    "print(\"Average accuracy: {} with standard deviation: {}\".format(np.mean(accuracies), np.std(accuracies)))\n",
    "print(\"Average MCC: {} with standard deviation: {}\".format(np.mean(MCCs), np.std(MCCs)))"
   ]
  },
  {
   "cell_type": "markdown",
   "id": "mexican-capture",
   "metadata": {},
   "source": [
    "## Result saving"
   ]
  },
  {
   "cell_type": "code",
   "execution_count": 4,
   "id": "automotive-participant",
   "metadata": {},
   "outputs": [],
   "source": [
    "if classifier == \"SVM\":\n",
    "    SVM_results = {\n",
    "        \"predicted\": Ypred, \n",
    "        \"true\": Ytrue, \n",
    "        \"mdl\": betas, \n",
    "        \"accuracies\": accuracies, \n",
    "        \"MCCs\": MCCs, \n",
    "        \"testSamples\": testSamples\n",
    "    }\n",
    "\n",
    "    savemat(results_path + r\"\\Int2SVMl2\" + \"_results_\" + \"clinical_only\" + permute + \".mat\", \n",
    "            {\"SVM_results\": SVM_results}, oned_as=\"column\")\n",
    "elif classifier == \"NN\":\n",
    "    NN_results = {\n",
    "        \"predicted\": Ypred, \n",
    "        \"true\": Ytrue, \n",
    "        \"mdl\": betas, \n",
    "        \"accuracies\": accuracies, \n",
    "        \"MCCs\": MCCs, \n",
    "        \"testSamples\": testSamples\n",
    "    }\n",
    "\n",
    "    savemat(results_path + r\"\\Int2NN\" + \"_results_\" + \"clinical_only\" + permute + \".mat\", \n",
    "            {\"NN_results\": NN_results}, oned_as=\"column\")\n",
    "else:\n",
    "    RF_results = {\n",
    "        \"predicted\": Ypred, \n",
    "        \"true\": Ytrue, \n",
    "        \"mdl\": betas, \n",
    "        \"accuracies\": accuracies, \n",
    "        \"MCCs\": MCCs, \n",
    "        \"testSamples\": testSamples\n",
    "    }\n",
    "\n",
    "    savemat(results_path + r\"\\Int2RF\" + \"_results_\" + \"clinical_only\" + permute + \".mat\", \n",
    "            {\"RF_results\": RF_results}, oned_as=\"column\")"
   ]
  }
 ],
 "metadata": {
  "kernelspec": {
   "display_name": "Python 3",
   "language": "python",
   "name": "python3"
  },
  "language_info": {
   "codemirror_mode": {
    "name": "ipython",
    "version": 3
   },
   "file_extension": ".py",
   "mimetype": "text/x-python",
   "name": "python",
   "nbconvert_exporter": "python",
   "pygments_lexer": "ipython3",
   "version": "3.7.4"
  }
 },
 "nbformat": 4,
 "nbformat_minor": 5
}
